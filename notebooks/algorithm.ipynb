{
 "cells": [
  {
   "cell_type": "code",
   "execution_count": 2,
   "metadata": {},
   "outputs": [
    {
     "name": "stderr",
     "output_type": "stream",
     "text": [
      "[nltk_data] Downloading package stopwords to\n",
      "[nltk_data]     /Users/saraho/nltk_data...\n",
      "[nltk_data]   Package stopwords is already up-to-date!\n"
     ]
    }
   ],
   "source": [
    "import pandas as pd\n",
    "import os\n",
    "import math\n",
    "import re\n",
    "from collections import Counter\n",
    "from scipy import stats\n",
    "\n",
    "import nltk\n",
    "import yaml\n",
    "\n",
    "nltk.download('stopwords')\n",
    "from nltk.corpus import stopwords"
   ]
  },
  {
   "cell_type": "markdown",
   "metadata": {},
   "source": [
    "# Generate Unlabeled Data"
   ]
  },
  {
   "cell_type": "code",
   "execution_count": 5,
   "metadata": {},
   "outputs": [],
   "source": [
    "datadir = '../data/daily'\n",
    "all_df = []\n",
    "\n",
    "for file in os.listdir(datadir):\n",
    "    if 'joined' in file: \n",
    "        df = pd.read_csv(datadir + '/' + file)\n",
    "        all_df.append(df)\n",
    "\n",
    "data = pd.concat(all_df)\n",
    "data = data[['news_id', 'wiki_id', 'date', 'news', 'entity', 'title', 'wiki']]\n",
    "data = data.sort_values(['date', 'news_id', 'wiki_id'])\n",
    "data.to_csv('../data/unlabeled_data.csv')"
   ]
  },
  {
   "cell_type": "markdown",
   "metadata": {},
   "source": [
    "# Evaluate Labeled Data"
   ]
  },
  {
   "cell_type": "code",
   "execution_count": 3,
   "metadata": {},
   "outputs": [
    {
     "data": {
      "text/html": [
       "<div>\n",
       "<style scoped>\n",
       "    .dataframe tbody tr th:only-of-type {\n",
       "        vertical-align: middle;\n",
       "    }\n",
       "\n",
       "    .dataframe tbody tr th {\n",
       "        vertical-align: top;\n",
       "    }\n",
       "\n",
       "    .dataframe thead th {\n",
       "        text-align: right;\n",
       "    }\n",
       "</style>\n",
       "<table border=\"1\" class=\"dataframe\">\n",
       "  <thead>\n",
       "    <tr style=\"text-align: right;\">\n",
       "      <th></th>\n",
       "      <th>news_id</th>\n",
       "      <th>wiki_id</th>\n",
       "      <th>date</th>\n",
       "      <th>news</th>\n",
       "      <th>entity</th>\n",
       "      <th>title</th>\n",
       "      <th>wiki</th>\n",
       "      <th>label</th>\n",
       "    </tr>\n",
       "  </thead>\n",
       "  <tbody>\n",
       "    <tr>\n",
       "      <th>0</th>\n",
       "      <td>1</td>\n",
       "      <td>0</td>\n",
       "      <td>Jun-04-2021</td>\n",
       "      <td>Texas GOP chair Allen West resigns -    Allen ...</td>\n",
       "      <td>GOP (organization)</td>\n",
       "      <td>Republican Party (United States)</td>\n",
       "      <td>The Republican Party, also referred to as the ...</td>\n",
       "      <td>1</td>\n",
       "    </tr>\n",
       "    <tr>\n",
       "      <th>1</th>\n",
       "      <td>1</td>\n",
       "      <td>1</td>\n",
       "      <td>Jun-04-2021</td>\n",
       "      <td>Texas GOP chair Allen West resigns -    Allen ...</td>\n",
       "      <td>Allen West</td>\n",
       "      <td>Allen West (politician)</td>\n",
       "      <td>Allen Bernard West (born February 7, 1961) is ...</td>\n",
       "      <td>1</td>\n",
       "    </tr>\n",
       "    <tr>\n",
       "      <th>2</th>\n",
       "      <td>1</td>\n",
       "      <td>2</td>\n",
       "      <td>Jun-04-2021</td>\n",
       "      <td>Texas GOP chair Allen West resigns -    Allen ...</td>\n",
       "      <td>the Texas Republican Party (organization)</td>\n",
       "      <td>Republican Party of Texas</td>\n",
       "      <td>The Republican Party of Texas (RPT) is the aff...</td>\n",
       "      <td>1</td>\n",
       "    </tr>\n",
       "    <tr>\n",
       "      <th>3</th>\n",
       "      <td>3</td>\n",
       "      <td>3</td>\n",
       "      <td>Jun-04-2021</td>\n",
       "      <td>China's deadly Tiananmen crackdown remembered ...</td>\n",
       "      <td>Tiananmen Square</td>\n",
       "      <td>Tiananmen Square</td>\n",
       "      <td>Tiananmen Square or Tian'anmen Square (; 天安门, ...</td>\n",
       "      <td>1</td>\n",
       "    </tr>\n",
       "    <tr>\n",
       "      <th>4</th>\n",
       "      <td>4</td>\n",
       "      <td>4</td>\n",
       "      <td>Jun-04-2021</td>\n",
       "      <td>Republicans draw inspiration from problem-plag...</td>\n",
       "      <td>Republicans</td>\n",
       "      <td>Republican</td>\n",
       "      <td>Republican can refer to:\\n\\n\\n</td>\n",
       "      <td>0</td>\n",
       "    </tr>\n",
       "  </tbody>\n",
       "</table>\n",
       "</div>"
      ],
      "text/plain": [
       "   news_id  wiki_id         date  \\\n",
       "0        1        0  Jun-04-2021   \n",
       "1        1        1  Jun-04-2021   \n",
       "2        1        2  Jun-04-2021   \n",
       "3        3        3  Jun-04-2021   \n",
       "4        4        4  Jun-04-2021   \n",
       "\n",
       "                                                news  \\\n",
       "0  Texas GOP chair Allen West resigns -    Allen ...   \n",
       "1  Texas GOP chair Allen West resigns -    Allen ...   \n",
       "2  Texas GOP chair Allen West resigns -    Allen ...   \n",
       "3  China's deadly Tiananmen crackdown remembered ...   \n",
       "4  Republicans draw inspiration from problem-plag...   \n",
       "\n",
       "                                      entity  \\\n",
       "0                         GOP (organization)   \n",
       "1                                 Allen West   \n",
       "2  the Texas Republican Party (organization)   \n",
       "3                           Tiananmen Square   \n",
       "4                                Republicans   \n",
       "\n",
       "                              title  \\\n",
       "0  Republican Party (United States)   \n",
       "1           Allen West (politician)   \n",
       "2         Republican Party of Texas   \n",
       "3                  Tiananmen Square   \n",
       "4                        Republican   \n",
       "\n",
       "                                                wiki  label  \n",
       "0  The Republican Party, also referred to as the ...      1  \n",
       "1  Allen Bernard West (born February 7, 1961) is ...      1  \n",
       "2  The Republican Party of Texas (RPT) is the aff...      1  \n",
       "3  Tiananmen Square or Tian'anmen Square (; 天安门, ...      1  \n",
       "4                     Republican can refer to:\\n\\n\\n      0  "
      ]
     },
     "execution_count": 3,
     "metadata": {},
     "output_type": "execute_result"
    }
   ],
   "source": [
    "labeled = pd.read_csv('../data/labeled/labeled_data.csv')\n",
    "labeled = labeled.dropna()\n",
    "labeled.head()"
   ]
  },
  {
   "cell_type": "code",
   "execution_count": 4,
   "metadata": {},
   "outputs": [
    {
     "data": {
      "text/html": [
       "<div>\n",
       "<style scoped>\n",
       "    .dataframe tbody tr th:only-of-type {\n",
       "        vertical-align: middle;\n",
       "    }\n",
       "\n",
       "    .dataframe tbody tr th {\n",
       "        vertical-align: top;\n",
       "    }\n",
       "\n",
       "    .dataframe thead th {\n",
       "        text-align: right;\n",
       "    }\n",
       "</style>\n",
       "<table border=\"1\" class=\"dataframe\">\n",
       "  <thead>\n",
       "    <tr style=\"text-align: right;\">\n",
       "      <th></th>\n",
       "      <th>news_id</th>\n",
       "      <th>wiki_id</th>\n",
       "      <th>date</th>\n",
       "      <th>news</th>\n",
       "      <th>entity</th>\n",
       "      <th>title</th>\n",
       "      <th>wiki</th>\n",
       "      <th>label</th>\n",
       "      <th>wiki_process</th>\n",
       "      <th>news_process</th>\n",
       "    </tr>\n",
       "  </thead>\n",
       "  <tbody>\n",
       "    <tr>\n",
       "      <th>0</th>\n",
       "      <td>1</td>\n",
       "      <td>0</td>\n",
       "      <td>Jun-04-2021</td>\n",
       "      <td>Texas GOP chair Allen West resigns -    Allen ...</td>\n",
       "      <td>GOP (organization)</td>\n",
       "      <td>Republican Party (United States)</td>\n",
       "      <td>The Republican Party, also referred to as the ...</td>\n",
       "      <td>1</td>\n",
       "      <td>republican party, also referred gop (\"grand ol...</td>\n",
       "      <td>texas gop chair allen west resigns - allen wes...</td>\n",
       "    </tr>\n",
       "    <tr>\n",
       "      <th>1</th>\n",
       "      <td>1</td>\n",
       "      <td>1</td>\n",
       "      <td>Jun-04-2021</td>\n",
       "      <td>Texas GOP chair Allen West resigns -    Allen ...</td>\n",
       "      <td>Allen West</td>\n",
       "      <td>Allen West (politician)</td>\n",
       "      <td>Allen Bernard West (born February 7, 1961) is ...</td>\n",
       "      <td>1</td>\n",
       "      <td>allen bernard west (born february 7, 1961) ame...</td>\n",
       "      <td>texas gop chair allen west resigns - allen wes...</td>\n",
       "    </tr>\n",
       "    <tr>\n",
       "      <th>2</th>\n",
       "      <td>1</td>\n",
       "      <td>2</td>\n",
       "      <td>Jun-04-2021</td>\n",
       "      <td>Texas GOP chair Allen West resigns -    Allen ...</td>\n",
       "      <td>the Texas Republican Party (organization)</td>\n",
       "      <td>Republican Party of Texas</td>\n",
       "      <td>The Republican Party of Texas (RPT) is the aff...</td>\n",
       "      <td>1</td>\n",
       "      <td>republican party texas (rpt) affiliate united ...</td>\n",
       "      <td>texas gop chair allen west resigns - allen wes...</td>\n",
       "    </tr>\n",
       "    <tr>\n",
       "      <th>3</th>\n",
       "      <td>3</td>\n",
       "      <td>3</td>\n",
       "      <td>Jun-04-2021</td>\n",
       "      <td>China's deadly Tiananmen crackdown remembered ...</td>\n",
       "      <td>Tiananmen Square</td>\n",
       "      <td>Tiananmen Square</td>\n",
       "      <td>Tiananmen Square or Tian'anmen Square (; 天安门, ...</td>\n",
       "      <td>1</td>\n",
       "      <td>tiananmen square tian'anmen square (; 天安门, pin...</td>\n",
       "      <td>china's deadly tiananmen crackdown remembered ...</td>\n",
       "    </tr>\n",
       "    <tr>\n",
       "      <th>4</th>\n",
       "      <td>4</td>\n",
       "      <td>4</td>\n",
       "      <td>Jun-04-2021</td>\n",
       "      <td>Republicans draw inspiration from problem-plag...</td>\n",
       "      <td>Republicans</td>\n",
       "      <td>Republican</td>\n",
       "      <td>Republican can refer to:\\n\\n\\n</td>\n",
       "      <td>0</td>\n",
       "      <td>republican refer to:</td>\n",
       "      <td>republicans draw inspiration problem-plagued a...</td>\n",
       "    </tr>\n",
       "  </tbody>\n",
       "</table>\n",
       "</div>"
      ],
      "text/plain": [
       "   news_id  wiki_id         date  \\\n",
       "0        1        0  Jun-04-2021   \n",
       "1        1        1  Jun-04-2021   \n",
       "2        1        2  Jun-04-2021   \n",
       "3        3        3  Jun-04-2021   \n",
       "4        4        4  Jun-04-2021   \n",
       "\n",
       "                                                news  \\\n",
       "0  Texas GOP chair Allen West resigns -    Allen ...   \n",
       "1  Texas GOP chair Allen West resigns -    Allen ...   \n",
       "2  Texas GOP chair Allen West resigns -    Allen ...   \n",
       "3  China's deadly Tiananmen crackdown remembered ...   \n",
       "4  Republicans draw inspiration from problem-plag...   \n",
       "\n",
       "                                      entity  \\\n",
       "0                         GOP (organization)   \n",
       "1                                 Allen West   \n",
       "2  the Texas Republican Party (organization)   \n",
       "3                           Tiananmen Square   \n",
       "4                                Republicans   \n",
       "\n",
       "                              title  \\\n",
       "0  Republican Party (United States)   \n",
       "1           Allen West (politician)   \n",
       "2         Republican Party of Texas   \n",
       "3                  Tiananmen Square   \n",
       "4                        Republican   \n",
       "\n",
       "                                                wiki  label  \\\n",
       "0  The Republican Party, also referred to as the ...      1   \n",
       "1  Allen Bernard West (born February 7, 1961) is ...      1   \n",
       "2  The Republican Party of Texas (RPT) is the aff...      1   \n",
       "3  Tiananmen Square or Tian'anmen Square (; 天安门, ...      1   \n",
       "4                     Republican can refer to:\\n\\n\\n      0   \n",
       "\n",
       "                                        wiki_process  \\\n",
       "0  republican party, also referred gop (\"grand ol...   \n",
       "1  allen bernard west (born february 7, 1961) ame...   \n",
       "2  republican party texas (rpt) affiliate united ...   \n",
       "3  tiananmen square tian'anmen square (; 天安门, pin...   \n",
       "4                               republican refer to:   \n",
       "\n",
       "                                        news_process  \n",
       "0  texas gop chair allen west resigns - allen wes...  \n",
       "1  texas gop chair allen west resigns - allen wes...  \n",
       "2  texas gop chair allen west resigns - allen wes...  \n",
       "3  china's deadly tiananmen crackdown remembered ...  \n",
       "4  republicans draw inspiration problem-plagued a...  "
      ]
     },
     "execution_count": 4,
     "metadata": {},
     "output_type": "execute_result"
    }
   ],
   "source": [
    "def remove_stopwords(df, c):\n",
    "\n",
    "    stop_words = stopwords.words('english')\n",
    "    for raw, processed in zip(c['raw_features'], c['processed_features']):\n",
    "        df[processed] = df[raw].str.lower().str.split(). \\\n",
    "            apply(lambda x: ' '.join([item for item in x\n",
    "                                      if item not in stop_words]))\n",
    "    return df\n",
    "\n",
    "stop_words = stopwords.words('english')\n",
    "\n",
    "with open('../config/algorithm.yaml', 'r') as f:\n",
    "    c = yaml.load(f, Loader=yaml.FullLoader)\n",
    "\n",
    "for raw, processed in zip(c['raw_features'], c['processed_features']):\n",
    "    labeled[processed] = labeled[raw].str.lower().str.split(). \\\n",
    "        apply(lambda x: ' '.join([item for item in x\n",
    "                                  if item not in stop_words]))\n",
    "\n",
    "labeled = labeled.dropna()\n",
    "labeled = remove_stopwords(labeled, c)\n",
    "labeled.head()"
   ]
  },
  {
   "cell_type": "code",
   "execution_count": 5,
   "metadata": {},
   "outputs": [],
   "source": [
    "def sim_sm(x):\n",
    "    from difflib import SequenceMatcher\n",
    "    return SequenceMatcher(None, x[0], x[1]).ratio()\n",
    "\n",
    "\n",
    "def get_cosine(vec1, vec2):\n",
    "    intersection = set(vec1.keys()) & set(vec2.keys())\n",
    "    numerator = sum([vec1[x] * vec2[x] for x in intersection])\n",
    "\n",
    "    sum1 = sum([vec1[x] ** 2 for x in list(vec1.keys())])\n",
    "    sum2 = sum([vec2[x] ** 2 for x in list(vec2.keys())])\n",
    "    denominator = math.sqrt(sum1) * math.sqrt(sum2)\n",
    "\n",
    "    if not denominator:\n",
    "        return 0.0\n",
    "    else:\n",
    "        return float(numerator) / denominator\n",
    "\n",
    "\n",
    "def text_to_vector(text):\n",
    "    WORD = re.compile(r\"\\w+\")\n",
    "    words = WORD.findall(text)\n",
    "    return Counter(words)\n",
    "\n",
    "\n",
    "def cos_pipeline(x):\n",
    "    vector1 = text_to_vector(x[0])\n",
    "    vector2 = text_to_vector(x[1])\n",
    "\n",
    "    return get_cosine(vector1, vector2)\n"
   ]
  },
  {
   "cell_type": "code",
   "execution_count": 6,
   "metadata": {
    "scrolled": true
   },
   "outputs": [
    {
     "data": {
      "text/plain": [
       "<AxesSubplot:>"
      ]
     },
     "execution_count": 6,
     "metadata": {},
     "output_type": "execute_result"
    },
    {
     "data": {
      "image/png": "[encoded data removed]",
      "text/plain": [
       "<Figure size 432x288 with 1 Axes>"
      ]
     },
     "metadata": {
      "needs_background": "light"
     },
     "output_type": "display_data"
    }
   ],
   "source": [
    "labeled['cos_sim'] = labeled[['wiki', 'news']].apply(cos_pipeline, axis=1)\n",
    "labeled['cos_sim'].hist()"
   ]
  },
  {
   "cell_type": "code",
   "execution_count": 7,
   "metadata": {},
   "outputs": [
    {
     "data": {
      "text/plain": [
       "<AxesSubplot:>"
      ]
     },
     "execution_count": 7,
     "metadata": {},
     "output_type": "execute_result"
    },
    {
     "data": {
      "image/png": "[encoded data removed]",
      "text/plain": [
       "<Figure size 432x288 with 1 Axes>"
      ]
     },
     "metadata": {
      "needs_background": "light"
     },
     "output_type": "display_data"
    }
   ],
   "source": [
    "labeled['sm_sim'] = labeled[['wiki', 'news']].apply(sim_sm, axis=1)\n",
    "labeled['sm_sim'].hist()"
   ]
  },
  {
   "cell_type": "code",
   "execution_count": 8,
   "metadata": {
    "scrolled": true
   },
   "outputs": [
    {
     "data": {
      "image/png": "[encoded data removed]",
      "text/plain": [
       "<Figure size 432x288 with 1 Axes>"
      ]
     },
     "metadata": {
      "needs_background": "light"
     },
     "output_type": "display_data"
    }
   ],
   "source": [
    "#Confusion matrix, Accuracy, sensitivity and specificity\n",
    "from sklearn.metrics import confusion_matrix, f1_score, roc_auc_score\n",
    "import matplotlib.pyplot as plt\n",
    "\n",
    "sensitivities = []\n",
    "specificities = []\n",
    "f1s = []\n",
    "aucs = []\n",
    "accuracies = []\n",
    "\n",
    "cutoffs = np.arange(0.01, 0.3, 0.01)\n",
    "for cutoff in cutoffs:\n",
    "\n",
    "    labeled['predict'] = labeled['sm_sim'] > cutoff\n",
    "    labeled['predict'] = labeled['predict'].astype(int)\n",
    "\n",
    "    cm1 = confusion_matrix(labeled['label'], labeled['predict'])\n",
    "    total1=sum(sum(cm1))\n",
    "\n",
    "    ### from confusion matrix calculate accuracy\n",
    "    accuracy1=(cm1[0,0]+cm1[1,1])/total1\n",
    "    accuracies.append(accuracy1)\n",
    "    \n",
    "    # true positives\n",
    "    sensitivity1 = cm1[0,0]/(cm1[0,0] + cm1[0,1])\n",
    "    sensitivities.append(sensitivity1)\n",
    "\n",
    "    # true negatives\n",
    "    specificity1 = cm1[1,1]/(cm1[1,0] + cm1[1,1])\n",
    "    specificities.append(specificity1)\n",
    "\n",
    "    auc = roc_auc_score(labeled['label'], labeled['predict'])\n",
    "    aucs.append(auc)\n",
    "\n",
    "    f1s.append(f1_score(labeled['label'], labeled['predict']))\n",
    "    \n",
    "plt.plot(cutoffs, specificities)\n",
    "plt.plot(cutoffs, sensitivities)\n",
    "plt.plot(cutoffs, f1s)\n",
    "plt.show()"
   ]
  },
  {
   "cell_type": "code",
   "execution_count": 11,
   "metadata": {
    "scrolled": true
   },
   "outputs": [
    {
     "data": {
      "image/png": "[encoded data removed]",
      "text/plain": [
       "<Figure size 432x288 with 1 Axes>"
      ]
     },
     "metadata": {
      "needs_background": "light"
     },
     "output_type": "display_data"
    }
   ],
   "source": [
    "#Confusion matrix, Accuracy, sensitivity and specificity\n",
    "from sklearn.metrics import confusion_matrix, f1_score, roc_auc_score\n",
    "import matplotlib.pyplot as plt\n",
    "\n",
    "sensitivities = []\n",
    "specificities = []\n",
    "f1s = []\n",
    "aucs = []\n",
    "accuracies = []\n",
    "\n",
    "cutoffs = np.arange(0.01, 0.3, 0.01)\n",
    "for cutoff in cutoffs:\n",
    "\n",
    "    labeled['predict'] = labeled['cos_sim'] > cutoff\n",
    "    labeled['predict'] = labeled['predict'].astype(int)\n",
    "\n",
    "    cm1 = confusion_matrix(labeled['label'], labeled['predict'])\n",
    "    total1=sum(sum(cm1))\n",
    "\n",
    "    ### from confusion matrix calculate accuracy\n",
    "    accuracy1=(cm1[0,0]+cm1[1,1])/total1\n",
    "    accuracies.append(accuracy1)\n",
    "    \n",
    "    # true positives\n",
    "    sensitivity1 = cm1[0,0]/(cm1[0,0] + cm1[0,1])\n",
    "    sensitivities.append(sensitivity1)\n",
    "\n",
    "    # true negatives\n",
    "    specificity1 = cm1[1,1]/(cm1[1,0] + cm1[1,1])\n",
    "    specificities.append(specificity1)\n",
    "\n",
    "    auc = roc_auc_score(labeled['label'], labeled['predict'])\n",
    "    aucs.append(auc)\n",
    "\n",
    "    f1s.append(f1_score(labeled['label'], labeled['predict']))\n",
    "    \n",
    "plt.plot(cutoffs, specificities, label='specificity')\n",
    "plt.plot(cutoffs, sensitivities, label='sensitivity')\n",
    "plt.plot(cutoffs, f1s, label='f1')\n",
    "plt.xlabel(\"similarity score cutoff\")\n",
    "plt.legend()\n",
    "plt.show()"
   ]
  },
  {
   "cell_type": "code",
   "execution_count": 16,
   "metadata": {},
   "outputs": [
    {
     "name": "stdout",
     "output_type": "stream",
     "text": [
      "0.74487895716946 0.01\n"
     ]
    }
   ],
   "source": [
    "maxpos = np.argmax(f1s)\n",
    "print(np.max(f1s), cutoffs[maxpos])"
   ]
  },
  {
   "cell_type": "code",
   "execution_count": 17,
   "metadata": {},
   "outputs": [
    {
     "data": {
      "text/plain": [
       "1    34\n",
       "0    26\n",
       "Name: label, dtype: int64"
      ]
     },
     "execution_count": 17,
     "metadata": {},
     "output_type": "execute_result"
    }
   ],
   "source": [
    "labeled['predict'] = (labeled['sm_sim'] > 0.1)\n",
    "labeled.loc[labeled['predict']]['label'].value_counts()"
   ]
  },
  {
   "cell_type": "code",
   "execution_count": 23,
   "metadata": {},
   "outputs": [
    {
     "data": {
      "text/plain": [
       "1    171\n",
       "0     70\n",
       "Name: label, dtype: int64"
      ]
     },
     "execution_count": 23,
     "metadata": {},
     "output_type": "execute_result"
    }
   ],
   "source": [
    "labeled['predict'] = (labeled['cos_sim'] > 0.25)\n",
    "labeled.loc[labeled['predict']]['label'].value_counts()"
   ]
  },
  {
   "cell_type": "code",
   "execution_count": 18,
   "metadata": {},
   "outputs": [
    {
     "data": {
      "text/html": [
       "<div>\n",
       "<style scoped>\n",
       "    .dataframe tbody tr th:only-of-type {\n",
       "        vertical-align: middle;\n",
       "    }\n",
       "\n",
       "    .dataframe tbody tr th {\n",
       "        vertical-align: top;\n",
       "    }\n",
       "\n",
       "    .dataframe thead th {\n",
       "        text-align: right;\n",
       "    }\n",
       "</style>\n",
       "<table border=\"1\" class=\"dataframe\">\n",
       "  <thead>\n",
       "    <tr style=\"text-align: right;\">\n",
       "      <th></th>\n",
       "      <th>news_id</th>\n",
       "      <th>wiki_id</th>\n",
       "      <th>date</th>\n",
       "      <th>news</th>\n",
       "      <th>entity</th>\n",
       "      <th>title</th>\n",
       "      <th>wiki</th>\n",
       "      <th>label</th>\n",
       "      <th>wiki_process</th>\n",
       "      <th>news_process</th>\n",
       "      <th>cos_sim</th>\n",
       "      <th>sm_sim</th>\n",
       "      <th>predict</th>\n",
       "    </tr>\n",
       "  </thead>\n",
       "  <tbody>\n",
       "    <tr>\n",
       "      <th>0</th>\n",
       "      <td>1</td>\n",
       "      <td>0</td>\n",
       "      <td>Jun-04-2021</td>\n",
       "      <td>Texas GOP chair Allen West resigns -    Allen ...</td>\n",
       "      <td>GOP (organization)</td>\n",
       "      <td>Republican Party (United States)</td>\n",
       "      <td>The Republican Party, also referred to as the ...</td>\n",
       "      <td>1</td>\n",
       "      <td>republican party, also referred gop (\"grand ol...</td>\n",
       "      <td>texas gop chair allen west resigns - allen wes...</td>\n",
       "      <td>0.365486</td>\n",
       "      <td>0.108631</td>\n",
       "      <td>True</td>\n",
       "    </tr>\n",
       "    <tr>\n",
       "      <th>1</th>\n",
       "      <td>1</td>\n",
       "      <td>1</td>\n",
       "      <td>Jun-04-2021</td>\n",
       "      <td>Texas GOP chair Allen West resigns -    Allen ...</td>\n",
       "      <td>Allen West</td>\n",
       "      <td>Allen West (politician)</td>\n",
       "      <td>Allen Bernard West (born February 7, 1961) is ...</td>\n",
       "      <td>1</td>\n",
       "      <td>allen bernard west (born february 7, 1961) ame...</td>\n",
       "      <td>texas gop chair allen west resigns - allen wes...</td>\n",
       "      <td>0.487826</td>\n",
       "      <td>0.129528</td>\n",
       "      <td>True</td>\n",
       "    </tr>\n",
       "    <tr>\n",
       "      <th>2</th>\n",
       "      <td>1</td>\n",
       "      <td>2</td>\n",
       "      <td>Jun-04-2021</td>\n",
       "      <td>Texas GOP chair Allen West resigns -    Allen ...</td>\n",
       "      <td>the Texas Republican Party (organization)</td>\n",
       "      <td>Republican Party of Texas</td>\n",
       "      <td>The Republican Party of Texas (RPT) is the aff...</td>\n",
       "      <td>1</td>\n",
       "      <td>republican party texas (rpt) affiliate united ...</td>\n",
       "      <td>texas gop chair allen west resigns - allen wes...</td>\n",
       "      <td>0.371338</td>\n",
       "      <td>0.283814</td>\n",
       "      <td>True</td>\n",
       "    </tr>\n",
       "    <tr>\n",
       "      <th>16</th>\n",
       "      <td>9</td>\n",
       "      <td>16</td>\n",
       "      <td>Jun-04-2021</td>\n",
       "      <td>CDC Director 'Deeply Concerned' By Teen COVID-...</td>\n",
       "      <td>CDC (organization)</td>\n",
       "      <td>CDC</td>\n",
       "      <td>CDC may refer to:</td>\n",
       "      <td>0</td>\n",
       "      <td>cdc may refer to:</td>\n",
       "      <td>cdc director 'deeply concerned' teen covid-19 ...</td>\n",
       "      <td>0.089803</td>\n",
       "      <td>0.126829</td>\n",
       "      <td>True</td>\n",
       "    </tr>\n",
       "    <tr>\n",
       "      <th>17</th>\n",
       "      <td>9</td>\n",
       "      <td>17</td>\n",
       "      <td>Jun-04-2021</td>\n",
       "      <td>CDC Director 'Deeply Concerned' By Teen COVID-...</td>\n",
       "      <td>Hospitalization Rate -</td>\n",
       "      <td>Shingles</td>\n",
       "      <td>Shingles, also known as zoster or herpes zoste...</td>\n",
       "      <td>0</td>\n",
       "      <td>shingles, also known zoster herpes zoster, vir...</td>\n",
       "      <td>cdc director 'deeply concerned' teen covid-19 ...</td>\n",
       "      <td>0.229711</td>\n",
       "      <td>0.142125</td>\n",
       "      <td>True</td>\n",
       "    </tr>\n",
       "  </tbody>\n",
       "</table>\n",
       "</div>"
      ],
      "text/plain": [
       "    news_id  wiki_id         date  \\\n",
       "0         1        0  Jun-04-2021   \n",
       "1         1        1  Jun-04-2021   \n",
       "2         1        2  Jun-04-2021   \n",
       "16        9       16  Jun-04-2021   \n",
       "17        9       17  Jun-04-2021   \n",
       "\n",
       "                                                 news  \\\n",
       "0   Texas GOP chair Allen West resigns -    Allen ...   \n",
       "1   Texas GOP chair Allen West resigns -    Allen ...   \n",
       "2   Texas GOP chair Allen West resigns -    Allen ...   \n",
       "16  CDC Director 'Deeply Concerned' By Teen COVID-...   \n",
       "17  CDC Director 'Deeply Concerned' By Teen COVID-...   \n",
       "\n",
       "                                       entity  \\\n",
       "0                          GOP (organization)   \n",
       "1                                  Allen West   \n",
       "2   the Texas Republican Party (organization)   \n",
       "16                         CDC (organization)   \n",
       "17                  Hospitalization Rate -      \n",
       "\n",
       "                               title  \\\n",
       "0   Republican Party (United States)   \n",
       "1            Allen West (politician)   \n",
       "2          Republican Party of Texas   \n",
       "16                               CDC   \n",
       "17                          Shingles   \n",
       "\n",
       "                                                 wiki  label  \\\n",
       "0   The Republican Party, also referred to as the ...      1   \n",
       "1   Allen Bernard West (born February 7, 1961) is ...      1   \n",
       "2   The Republican Party of Texas (RPT) is the aff...      1   \n",
       "16                                  CDC may refer to:      0   \n",
       "17  Shingles, also known as zoster or herpes zoste...      0   \n",
       "\n",
       "                                         wiki_process  \\\n",
       "0   republican party, also referred gop (\"grand ol...   \n",
       "1   allen bernard west (born february 7, 1961) ame...   \n",
       "2   republican party texas (rpt) affiliate united ...   \n",
       "16                                  cdc may refer to:   \n",
       "17  shingles, also known zoster herpes zoster, vir...   \n",
       "\n",
       "                                         news_process   cos_sim    sm_sim  \\\n",
       "0   texas gop chair allen west resigns - allen wes...  0.365486  0.108631   \n",
       "1   texas gop chair allen west resigns - allen wes...  0.487826  0.129528   \n",
       "2   texas gop chair allen west resigns - allen wes...  0.371338  0.283814   \n",
       "16  cdc director 'deeply concerned' teen covid-19 ...  0.089803  0.126829   \n",
       "17  cdc director 'deeply concerned' teen covid-19 ...  0.229711  0.142125   \n",
       "\n",
       "    predict  \n",
       "0      True  \n",
       "1      True  \n",
       "2      True  \n",
       "16     True  \n",
       "17     True  "
      ]
     },
     "execution_count": 18,
     "metadata": {},
     "output_type": "execute_result"
    }
   ],
   "source": [
    "labeled.drop_duplicates(['news_id', 'title']).loc[labeled['predict']].head()"
   ]
  },
  {
   "cell_type": "code",
   "execution_count": null,
   "metadata": {},
   "outputs": [],
   "source": []
  },
  {
   "cell_type": "code",
   "execution_count": 7,
   "metadata": {},
   "outputs": [
    {
     "ename": "NameError",
     "evalue": "name 'sentences' is not defined",
     "output_type": "error",
     "traceback": [
      "\u001b[0;31m---------------------------------------------------------------------------\u001b[0m",
      "\u001b[0;31mNameError\u001b[0m                                 Traceback (most recent call last)",
      "\u001b[0;32m<ipython-input-7-e3310f10673c>\u001b[0m in \u001b[0;36m<module>\u001b[0;34m\u001b[0m\n\u001b[1;32m      1\u001b[0m \u001b[0;32mfrom\u001b[0m \u001b[0mgensim\u001b[0m\u001b[0;34m.\u001b[0m\u001b[0mmodels\u001b[0m \u001b[0;32mimport\u001b[0m \u001b[0mWord2Vec\u001b[0m\u001b[0;34m\u001b[0m\u001b[0;34m\u001b[0m\u001b[0m\n\u001b[0;32m----> 2\u001b[0;31m \u001b[0mmodel\u001b[0m \u001b[0;34m=\u001b[0m \u001b[0mWord2Vec\u001b[0m\u001b[0;34m(\u001b[0m\u001b[0msentences\u001b[0m\u001b[0;34m,\u001b[0m \u001b[0mmin_count\u001b[0m\u001b[0;34m=\u001b[0m\u001b[0;36m1\u001b[0m\u001b[0;34m)\u001b[0m\u001b[0;34m\u001b[0m\u001b[0;34m\u001b[0m\u001b[0m\n\u001b[0m\u001b[1;32m      3\u001b[0m \u001b[0mmodel\u001b[0m\u001b[0;34m.\u001b[0m\u001b[0msimilarity\u001b[0m\u001b[0;34m(\u001b[0m\u001b[0;34m'france'\u001b[0m\u001b[0;34m,\u001b[0m \u001b[0;34m'spain'\u001b[0m\u001b[0;34m)\u001b[0m\u001b[0;34m\u001b[0m\u001b[0;34m\u001b[0m\u001b[0m\n",
      "\u001b[0;31mNameError\u001b[0m: name 'sentences' is not defined"
     ]
    }
   ],
   "source": [
    "from gensim.models import Word2Vec\n",
    "model = Word2Vec(sentences, min_count=1)\n",
    "model.similarity('france', 'spain')"
   ]
  },
  {
   "cell_type": "code",
   "execution_count": null,
   "metadata": {},
   "outputs": [],
   "source": []
  }
 ],
 "metadata": {
  "kernelspec": {
   "display_name": "wikinews",
   "language": "python",
   "name": "wikinews"
  },
  "language_info": {
   "codemirror_mode": {
    "name": "ipython",
    "version": 3
   },
   "file_extension": ".py",
   "mimetype": "text/x-python",
   "name": "python",
   "nbconvert_exporter": "python",
   "pygments_lexer": "ipython3",
   "version": "3.9.4"
  },
  "varInspector": {
   "cols": {
    "lenName": 16,
    "lenType": 16,
    "lenVar": 40
   },
   "kernels_config": {
    "python": {
     "delete_cmd_postfix": "",
     "delete_cmd_prefix": "del ",
     "library": "var_list.py",
     "varRefreshCmd": "print(var_dic_list())"
    },
    "r": {
     "delete_cmd_postfix": ") ",
     "delete_cmd_prefix": "rm(",
     "library": "var_list.r",
     "varRefreshCmd": "cat(var_dic_list()) "
    }
   },
   "types_to_exclude": [
    "module",
    "function",
    "builtin_function_or_method",
    "instance",
    "_Feature"
   ],
   "window_display": false
  }
 },
 "nbformat": 4,
 "nbformat_minor": 4
}
