{
 "cells": [
  {
   "cell_type": "code",
   "execution_count": 1,
   "metadata": {},
   "outputs": [],
   "source": [
    "import pandas as pd\n",
    "import os\n",
    "import math\n",
    "import re\n",
    "from collections import Counter\n",
    "from scipy import stats\n",
    "\n",
    "import nltk\n",
    "import yaml\n",
    "\n",
    "nltk.download('stopwords')\n",
    "from nltk.corpus import stopwords"
   ]
  },
  {
   "cell_type": "markdown",
   "metadata": {},
   "source": [
    "# Generate Unlabeled Data"
   ]
  },
  {
   "cell_type": "code",
   "execution_count": 2,
   "metadata": {},
   "outputs": [],
   "source": [
    "datadir = '../data/sample'\n",
    "wikidf = []\n",
    "newsdf = []\n",
    "\n",
    "for file in os.listdir(datadir):\n",
    "    if 'wiki' in file: \n",
    "        df = pd.read_csv(datadir + '/' + file)[['news_id', 'title', 'wiki', 'entity']]\n",
    "        \n",
    "        # add date column\n",
    "        date = '-'.join(file.split('-')[0:3])\n",
    "        df['date'] = date\n",
    "        \n",
    "        # remove duplicates\n",
    "        df.drop_duplicates(['title', 'news_id', 'date'])\n",
    "        \n",
    "        # set index\n",
    "        df = df.reset_index()\n",
    "        df.rename(columns={'index': 'wiki_id'}, inplace=True)\n",
    "        wikidf.append(df)\n",
    "    elif 'news' in file:\n",
    "        df = pd.read_csv(datadir + '/' + file)[['news_id', 'news']]\n",
    "        date = '-'.join(file.split('-')[0:3])\n",
    "        df['date'] = date\n",
    "        newsdf.append(df)\n",
    "        \n",
    "data = pd.concat(wikidf).merge(pd.concat(newsdf))\n",
    "data = data[['news_id', 'wiki_id', 'date', 'news', 'entity', 'title', 'wiki']]\n",
    "data = data.sort_values(['date', 'news_id', 'wiki_id'])\n",
    "# data.to_csv('unlabeled_data.csv', index=False)"
   ]
  },
  {
   "cell_type": "markdown",
   "metadata": {},
   "source": [
    "# Evaluate Labeled Data"
   ]
  },
  {
   "cell_type": "code",
   "execution_count": 5,
   "metadata": {},
   "outputs": [
    {
     "data": {
      "text/html": [
       "<div>\n",
       "<style scoped>\n",
       "    .dataframe tbody tr th:only-of-type {\n",
       "        vertical-align: middle;\n",
       "    }\n",
       "\n",
       "    .dataframe tbody tr th {\n",
       "        vertical-align: top;\n",
       "    }\n",
       "\n",
       "    .dataframe thead th {\n",
       "        text-align: right;\n",
       "    }\n",
       "</style>\n",
       "<table border=\"1\" class=\"dataframe\">\n",
       "  <thead>\n",
       "    <tr style=\"text-align: right;\">\n",
       "      <th></th>\n",
       "      <th>news_id</th>\n",
       "      <th>wiki_id</th>\n",
       "      <th>date</th>\n",
       "      <th>news</th>\n",
       "      <th>title</th>\n",
       "      <th>wiki</th>\n",
       "      <th>label</th>\n",
       "    </tr>\n",
       "  </thead>\n",
       "  <tbody>\n",
       "    <tr>\n",
       "      <th>0</th>\n",
       "      <td>0</td>\n",
       "      <td>0</td>\n",
       "      <td>May-04-2021</td>\n",
       "      <td>Market Rally Split Again; Yellen Tries To Walk...</td>\n",
       "      <td>First 100 days of Donald Trump's presidency</td>\n",
       "      <td>The first 100 days of Donald Trump's presidenc...</td>\n",
       "      <td>0</td>\n",
       "    </tr>\n",
       "    <tr>\n",
       "      <th>1</th>\n",
       "      <td>0</td>\n",
       "      <td>1</td>\n",
       "      <td>May-04-2021</td>\n",
       "      <td>Market Rally Split Again; Yellen Tries To Walk...</td>\n",
       "      <td>Timeline of the Donald Trump presidency (2017 Q2)</td>\n",
       "      <td>The following is a timeline of the presidency ...</td>\n",
       "      <td>0</td>\n",
       "    </tr>\n",
       "    <tr>\n",
       "      <th>2</th>\n",
       "      <td>0</td>\n",
       "      <td>2</td>\n",
       "      <td>May-04-2021</td>\n",
       "      <td>Market Rally Split Again; Yellen Tries To Walk...</td>\n",
       "      <td>Apple</td>\n",
       "      <td>An apple is an edible fruit produced by an app...</td>\n",
       "      <td>0</td>\n",
       "    </tr>\n",
       "    <tr>\n",
       "      <th>3</th>\n",
       "      <td>0</td>\n",
       "      <td>3</td>\n",
       "      <td>May-04-2021</td>\n",
       "      <td>Market Rally Split Again; Yellen Tries To Walk...</td>\n",
       "      <td>Apple Inc.</td>\n",
       "      <td>Apple Inc. is an American multinational techno...</td>\n",
       "      <td>1</td>\n",
       "    </tr>\n",
       "    <tr>\n",
       "      <th>4</th>\n",
       "      <td>0</td>\n",
       "      <td>4</td>\n",
       "      <td>May-04-2021</td>\n",
       "      <td>Market Rally Split Again; Yellen Tries To Walk...</td>\n",
       "      <td>Treasury</td>\n",
       "      <td>A treasury is either\\n\\nA government departmen...</td>\n",
       "      <td>0</td>\n",
       "    </tr>\n",
       "  </tbody>\n",
       "</table>\n",
       "</div>"
      ],
      "text/plain": [
       "   news_id  wiki_id         date  \\\n",
       "0        0        0  May-04-2021   \n",
       "1        0        1  May-04-2021   \n",
       "2        0        2  May-04-2021   \n",
       "3        0        3  May-04-2021   \n",
       "4        0        4  May-04-2021   \n",
       "\n",
       "                                                news  \\\n",
       "0  Market Rally Split Again; Yellen Tries To Walk...   \n",
       "1  Market Rally Split Again; Yellen Tries To Walk...   \n",
       "2  Market Rally Split Again; Yellen Tries To Walk...   \n",
       "3  Market Rally Split Again; Yellen Tries To Walk...   \n",
       "4  Market Rally Split Again; Yellen Tries To Walk...   \n",
       "\n",
       "                                               title  \\\n",
       "0        First 100 days of Donald Trump's presidency   \n",
       "1  Timeline of the Donald Trump presidency (2017 Q2)   \n",
       "2                                              Apple   \n",
       "3                                         Apple Inc.   \n",
       "4                                           Treasury   \n",
       "\n",
       "                                                wiki  label  \n",
       "0  The first 100 days of Donald Trump's presidenc...      0  \n",
       "1  The following is a timeline of the presidency ...      0  \n",
       "2  An apple is an edible fruit produced by an app...      0  \n",
       "3  Apple Inc. is an American multinational techno...      1  \n",
       "4  A treasury is either\\n\\nA government departmen...      0  "
      ]
     },
     "execution_count": 5,
     "metadata": {},
     "output_type": "execute_result"
    }
   ],
   "source": [
    "labeled = pd.read_csv('../data/labeled/labeled.csv')\n",
    "labeled = labeled.dropna()\n",
    "labeled.head()"
   ]
  },
  {
   "cell_type": "code",
   "execution_count": 23,
   "metadata": {},
   "outputs": [
    {
     "data": {
      "text/html": [
       "<div>\n",
       "<style scoped>\n",
       "    .dataframe tbody tr th:only-of-type {\n",
       "        vertical-align: middle;\n",
       "    }\n",
       "\n",
       "    .dataframe tbody tr th {\n",
       "        vertical-align: top;\n",
       "    }\n",
       "\n",
       "    .dataframe thead th {\n",
       "        text-align: right;\n",
       "    }\n",
       "</style>\n",
       "<table border=\"1\" class=\"dataframe\">\n",
       "  <thead>\n",
       "    <tr style=\"text-align: right;\">\n",
       "      <th></th>\n",
       "      <th>news_id</th>\n",
       "      <th>wiki_id</th>\n",
       "      <th>date</th>\n",
       "      <th>news</th>\n",
       "      <th>title</th>\n",
       "      <th>wiki</th>\n",
       "      <th>label</th>\n",
       "      <th>wiki_process</th>\n",
       "      <th>news_process</th>\n",
       "      <th>cos_sim</th>\n",
       "      <th>sm_sim</th>\n",
       "      <th>predict</th>\n",
       "    </tr>\n",
       "  </thead>\n",
       "  <tbody>\n",
       "    <tr>\n",
       "      <th>0</th>\n",
       "      <td>0</td>\n",
       "      <td>0</td>\n",
       "      <td>May-04-2021</td>\n",
       "      <td>Market Rally Split Again; Yellen Tries To Walk...</td>\n",
       "      <td>First 100 days of Donald Trump's presidency</td>\n",
       "      <td>The first 100 days of Donald Trump's presidenc...</td>\n",
       "      <td>0</td>\n",
       "      <td>first 100 days donald trump's presidency began...</td>\n",
       "      <td>market rally split again; yellen tries walk ba...</td>\n",
       "      <td>0.096800</td>\n",
       "      <td>0.078384</td>\n",
       "      <td>False</td>\n",
       "    </tr>\n",
       "    <tr>\n",
       "      <th>1</th>\n",
       "      <td>0</td>\n",
       "      <td>1</td>\n",
       "      <td>May-04-2021</td>\n",
       "      <td>Market Rally Split Again; Yellen Tries To Walk...</td>\n",
       "      <td>Timeline of the Donald Trump presidency (2017 Q2)</td>\n",
       "      <td>The following is a timeline of the presidency ...</td>\n",
       "      <td>0</td>\n",
       "      <td>following timeline presidency donald trump sec...</td>\n",
       "      <td>market rally split again; yellen tries walk ba...</td>\n",
       "      <td>0.106102</td>\n",
       "      <td>0.078501</td>\n",
       "      <td>False</td>\n",
       "    </tr>\n",
       "    <tr>\n",
       "      <th>2</th>\n",
       "      <td>0</td>\n",
       "      <td>2</td>\n",
       "      <td>May-04-2021</td>\n",
       "      <td>Market Rally Split Again; Yellen Tries To Walk...</td>\n",
       "      <td>Apple</td>\n",
       "      <td>An apple is an edible fruit produced by an app...</td>\n",
       "      <td>0</td>\n",
       "      <td>apple edible fruit produced apple tree (malus ...</td>\n",
       "      <td>market rally split again; yellen tries walk ba...</td>\n",
       "      <td>0.063492</td>\n",
       "      <td>0.115635</td>\n",
       "      <td>True</td>\n",
       "    </tr>\n",
       "    <tr>\n",
       "      <th>3</th>\n",
       "      <td>0</td>\n",
       "      <td>3</td>\n",
       "      <td>May-04-2021</td>\n",
       "      <td>Market Rally Split Again; Yellen Tries To Walk...</td>\n",
       "      <td>Apple Inc.</td>\n",
       "      <td>Apple Inc. is an American multinational techno...</td>\n",
       "      <td>1</td>\n",
       "      <td>apple inc. american multinational technology c...</td>\n",
       "      <td>market rally split again; yellen tries walk ba...</td>\n",
       "      <td>0.114876</td>\n",
       "      <td>0.090504</td>\n",
       "      <td>False</td>\n",
       "    </tr>\n",
       "    <tr>\n",
       "      <th>4</th>\n",
       "      <td>0</td>\n",
       "      <td>4</td>\n",
       "      <td>May-04-2021</td>\n",
       "      <td>Market Rally Split Again; Yellen Tries To Walk...</td>\n",
       "      <td>Treasury</td>\n",
       "      <td>A treasury is either\\n\\nA government departmen...</td>\n",
       "      <td>0</td>\n",
       "      <td>treasury either government department related ...</td>\n",
       "      <td>market rally split again; yellen tries walk ba...</td>\n",
       "      <td>0.122077</td>\n",
       "      <td>0.079545</td>\n",
       "      <td>False</td>\n",
       "    </tr>\n",
       "  </tbody>\n",
       "</table>\n",
       "</div>"
      ],
      "text/plain": [
       "   news_id  wiki_id         date  \\\n",
       "0        0        0  May-04-2021   \n",
       "1        0        1  May-04-2021   \n",
       "2        0        2  May-04-2021   \n",
       "3        0        3  May-04-2021   \n",
       "4        0        4  May-04-2021   \n",
       "\n",
       "                                                news  \\\n",
       "0  Market Rally Split Again; Yellen Tries To Walk...   \n",
       "1  Market Rally Split Again; Yellen Tries To Walk...   \n",
       "2  Market Rally Split Again; Yellen Tries To Walk...   \n",
       "3  Market Rally Split Again; Yellen Tries To Walk...   \n",
       "4  Market Rally Split Again; Yellen Tries To Walk...   \n",
       "\n",
       "                                               title  \\\n",
       "0        First 100 days of Donald Trump's presidency   \n",
       "1  Timeline of the Donald Trump presidency (2017 Q2)   \n",
       "2                                              Apple   \n",
       "3                                         Apple Inc.   \n",
       "4                                           Treasury   \n",
       "\n",
       "                                                wiki  label  \\\n",
       "0  The first 100 days of Donald Trump's presidenc...      0   \n",
       "1  The following is a timeline of the presidency ...      0   \n",
       "2  An apple is an edible fruit produced by an app...      0   \n",
       "3  Apple Inc. is an American multinational techno...      1   \n",
       "4  A treasury is either\\n\\nA government departmen...      0   \n",
       "\n",
       "                                        wiki_process  \\\n",
       "0  first 100 days donald trump's presidency began...   \n",
       "1  following timeline presidency donald trump sec...   \n",
       "2  apple edible fruit produced apple tree (malus ...   \n",
       "3  apple inc. american multinational technology c...   \n",
       "4  treasury either government department related ...   \n",
       "\n",
       "                                        news_process   cos_sim    sm_sim  \\\n",
       "0  market rally split again; yellen tries walk ba...  0.096800  0.078384   \n",
       "1  market rally split again; yellen tries walk ba...  0.106102  0.078501   \n",
       "2  market rally split again; yellen tries walk ba...  0.063492  0.115635   \n",
       "3  market rally split again; yellen tries walk ba...  0.114876  0.090504   \n",
       "4  market rally split again; yellen tries walk ba...  0.122077  0.079545   \n",
       "\n",
       "   predict  \n",
       "0    False  \n",
       "1    False  \n",
       "2     True  \n",
       "3    False  \n",
       "4    False  "
      ]
     },
     "execution_count": 23,
     "metadata": {},
     "output_type": "execute_result"
    }
   ],
   "source": [
    "def remove_stopwords(df, c):\n",
    "\n",
    "    stop_words = stopwords.words('english')\n",
    "    for raw, processed in zip(c['raw_features'], c['processed_features']):\n",
    "        df[processed] = df[raw].str.lower().str.split(). \\\n",
    "            apply(lambda x: ' '.join([item for item in x\n",
    "                                      if item not in stop_words]))\n",
    "    return df\n",
    "\n",
    "\n",
    "with open('../config/algorithm.yaml', 'r') as f:\n",
    "    c = yaml.load(f, Loader=yaml.FullLoader)\n",
    "\n",
    "for raw, processed in zip(c['raw_features'], c['processed_features']):\n",
    "    labeled[processed] = labeled[raw].str.lower().str.split(). \\\n",
    "        apply(lambda x: ' '.join([item for item in x\n",
    "                                  if item not in stop_words]))\n",
    "\n",
    "labeled = labeled.dropna()\n",
    "labeled = remove_stopwords(labeled, c)\n",
    "labeled.head()"
   ]
  },
  {
   "cell_type": "code",
   "execution_count": 10,
   "metadata": {},
   "outputs": [],
   "source": [
    "def sim_sm(x):\n",
    "    from difflib import SequenceMatcher\n",
    "    return SequenceMatcher(None, x[0], x[1]).ratio()\n",
    "\n",
    "\n",
    "def get_cosine(vec1, vec2):\n",
    "    intersection = set(vec1.keys()) & set(vec2.keys())\n",
    "    numerator = sum([vec1[x] * vec2[x] for x in intersection])\n",
    "\n",
    "    sum1 = sum([vec1[x] ** 2 for x in list(vec1.keys())])\n",
    "    sum2 = sum([vec2[x] ** 2 for x in list(vec2.keys())])\n",
    "    denominator = math.sqrt(sum1) * math.sqrt(sum2)\n",
    "\n",
    "    if not denominator:\n",
    "        return 0.0\n",
    "    else:\n",
    "        return float(numerator) / denominator\n",
    "\n",
    "\n",
    "def text_to_vector(text):\n",
    "    WORD = re.compile(r\"\\w+\")\n",
    "    words = WORD.findall(text)\n",
    "    return Counter(words)\n",
    "\n",
    "\n",
    "def cos_pipeline(x):\n",
    "    vector1 = text_to_vector(x[0])\n",
    "    vector2 = text_to_vector(x[1])\n",
    "\n",
    "    return get_cosine(vector1, vector2)\n"
   ]
  },
  {
   "cell_type": "code",
   "execution_count": 13,
   "metadata": {
    "scrolled": true
   },
   "outputs": [
    {
     "data": {
      "text/plain": [
       "<AxesSubplot:>"
      ]
     },
     "execution_count": 13,
     "metadata": {},
     "output_type": "execute_result"
    },
    {
     "data": {
      "image/png": "[encoded data removed]",
      "text/plain": [
       "<Figure size 432x288 with 1 Axes>"
      ]
     },
     "metadata": {
      "needs_background": "light"
     },
     "output_type": "display_data"
    }
   ],
   "source": [
    "labeled['cos_sim'] = labeled[['wiki', 'news']].apply(cos_pipeline, axis=1)\n",
    "labeled['cos_sim'].hist()"
   ]
  },
  {
   "cell_type": "code",
   "execution_count": 14,
   "metadata": {},
   "outputs": [
    {
     "data": {
      "text/plain": [
       "<AxesSubplot:>"
      ]
     },
     "execution_count": 14,
     "metadata": {},
     "output_type": "execute_result"
    },
    {
     "data": {
      "image/png": "[encoded data removed]",
      "text/plain": [
       "<Figure size 432x288 with 1 Axes>"
      ]
     },
     "metadata": {
      "needs_background": "light"
     },
     "output_type": "display_data"
    }
   ],
   "source": [
    "labeled['sm_sim'] = labeled[['wiki', 'news']].apply(sim_sm, axis=1)\n",
    "labeled['sm_sim'].hist()"
   ]
  },
  {
   "cell_type": "code",
   "execution_count": 16,
   "metadata": {
    "scrolled": true
   },
   "outputs": [
    {
     "data": {
      "image/png": "[encoded data removed]",
      "text/plain": [
       "<Figure size 432x288 with 1 Axes>"
      ]
     },
     "metadata": {
      "needs_background": "light"
     },
     "output_type": "display_data"
    }
   ],
   "source": [
    "#Confusion matrix, Accuracy, sensitivity and specificity\n",
    "from sklearn.metrics import confusion_matrix, f1_score, roc_auc_score\n",
    "import matplotlib.pyplot as plt\n",
    "\n",
    "sensitivities = []\n",
    "specificities = []\n",
    "f1s = []\n",
    "aucs = []\n",
    "accuracies = []\n",
    "\n",
    "cutoffs = np.arange(0.01, 0.3, 0.01)\n",
    "for cutoff in cutoffs:\n",
    "\n",
    "    labeled['predict'] = labeled['sm_sim'] > cutoff\n",
    "    labeled['predict'] = labeled['predict'].astype(int)\n",
    "\n",
    "    cm1 = confusion_matrix(labeled['label'], labeled['predict'])\n",
    "    total1=sum(sum(cm1))\n",
    "\n",
    "    ### from confusion matrix calculate accuracy\n",
    "    accuracy1=(cm1[0,0]+cm1[1,1])/total1\n",
    "    accuracies.append(accuracy1)\n",
    "    \n",
    "    # true positives\n",
    "    sensitivity1 = cm1[0,0]/(cm1[0,0] + cm1[0,1])\n",
    "    sensitivities.append(sensitivity1)\n",
    "\n",
    "    # true negatives\n",
    "    specificity1 = cm1[1,1]/(cm1[1,0] + cm1[1,1])\n",
    "    specificities.append(specificity1)\n",
    "\n",
    "    auc = roc_auc_score(labeled['label'], labeled['predict'])\n",
    "    aucs.append(auc)\n",
    "\n",
    "    f1s.append(f1_score(labeled['label'], labeled['predict']))\n",
    "    \n",
    "plt.plot(cutoffs, specificities)\n",
    "plt.plot(cutoffs, sensitivities)\n",
    "plt.plot(cutoffs, f1s)\n",
    "plt.show()"
   ]
  },
  {
   "cell_type": "code",
   "execution_count": 17,
   "metadata": {},
   "outputs": [
    {
     "name": "stdout",
     "output_type": "stream",
     "text": [
      "0.579225352112676\n"
     ]
    },
    {
     "data": {
      "text/plain": [
       "0.01"
      ]
     },
     "execution_count": 17,
     "metadata": {},
     "output_type": "execute_result"
    }
   ],
   "source": [
    "maxpos = np.argmax(f1s)\n",
    "print(np.max(f1s), cutoffs[maxpos])"
   ]
  },
  {
   "cell_type": "code",
   "execution_count": 20,
   "metadata": {},
   "outputs": [
    {
     "data": {
      "text/plain": [
       "1    46\n",
       "0    43\n",
       "Name: label, dtype: int64"
      ]
     },
     "execution_count": 20,
     "metadata": {},
     "output_type": "execute_result"
    }
   ],
   "source": [
    "labeled['predict'] = (labeled['sm_sim'] > 0.1)\n",
    "labeled.loc[labeled['predict']]['label'].value_counts()"
   ]
  },
  {
   "cell_type": "code",
   "execution_count": 22,
   "metadata": {},
   "outputs": [
    {
     "data": {
      "text/html": [
       "<div>\n",
       "<style scoped>\n",
       "    .dataframe tbody tr th:only-of-type {\n",
       "        vertical-align: middle;\n",
       "    }\n",
       "\n",
       "    .dataframe tbody tr th {\n",
       "        vertical-align: top;\n",
       "    }\n",
       "\n",
       "    .dataframe thead th {\n",
       "        text-align: right;\n",
       "    }\n",
       "</style>\n",
       "<table border=\"1\" class=\"dataframe\">\n",
       "  <thead>\n",
       "    <tr style=\"text-align: right;\">\n",
       "      <th></th>\n",
       "      <th>news_id</th>\n",
       "      <th>wiki_id</th>\n",
       "      <th>date</th>\n",
       "      <th>news</th>\n",
       "      <th>title</th>\n",
       "      <th>wiki</th>\n",
       "      <th>label</th>\n",
       "      <th>wiki_process</th>\n",
       "      <th>news_process</th>\n",
       "      <th>cos_sim</th>\n",
       "      <th>sm_sim</th>\n",
       "      <th>predict</th>\n",
       "    </tr>\n",
       "  </thead>\n",
       "  <tbody>\n",
       "    <tr>\n",
       "      <th>2</th>\n",
       "      <td>0</td>\n",
       "      <td>2</td>\n",
       "      <td>May-04-2021</td>\n",
       "      <td>Market Rally Split Again; Yellen Tries To Walk...</td>\n",
       "      <td>Apple</td>\n",
       "      <td>An apple is an edible fruit produced by an app...</td>\n",
       "      <td>0</td>\n",
       "      <td>apple edible fruit produced apple tree (malus ...</td>\n",
       "      <td>market rally split again; yellen tries walk ba...</td>\n",
       "      <td>0.063492</td>\n",
       "      <td>0.115635</td>\n",
       "      <td>True</td>\n",
       "    </tr>\n",
       "    <tr>\n",
       "      <th>7</th>\n",
       "      <td>0</td>\n",
       "      <td>7</td>\n",
       "      <td>May-04-2021</td>\n",
       "      <td>Market Rally Split Again; Yellen Tries To Walk...</td>\n",
       "      <td>Janet Yellen</td>\n",
       "      <td>Janet Louise Yellen (born August 13, 1946) is ...</td>\n",
       "      <td>1</td>\n",
       "      <td>janet louise yellen (born august 13, 1946) ame...</td>\n",
       "      <td>market rally split again; yellen tries walk ba...</td>\n",
       "      <td>0.131165</td>\n",
       "      <td>0.108108</td>\n",
       "      <td>True</td>\n",
       "    </tr>\n",
       "    <tr>\n",
       "      <th>73</th>\n",
       "      <td>8</td>\n",
       "      <td>73</td>\n",
       "      <td>May-04-2021</td>\n",
       "      <td>Derek Chauvin files motion for new trial in Ge...</td>\n",
       "      <td>Trial of Derek Chauvin</td>\n",
       "      <td>State of Minnesota v. Derek Michael Chauvin is...</td>\n",
       "      <td>1</td>\n",
       "      <td>state minnesota v. derek michael chauvin crimi...</td>\n",
       "      <td>derek chauvin files motion new trial george fl...</td>\n",
       "      <td>0.406180</td>\n",
       "      <td>0.100376</td>\n",
       "      <td>True</td>\n",
       "    </tr>\n",
       "    <tr>\n",
       "      <th>110</th>\n",
       "      <td>12</td>\n",
       "      <td>110</td>\n",
       "      <td>May-04-2021</td>\n",
       "      <td>Anger mounts as death toll from Mexico metro o...</td>\n",
       "      <td>Anger management</td>\n",
       "      <td>Anger management is a psycho-therapeutic progr...</td>\n",
       "      <td>0</td>\n",
       "      <td>anger management psycho-therapeutic program an...</td>\n",
       "      <td>anger mounts death toll mexico metro overpass ...</td>\n",
       "      <td>0.214665</td>\n",
       "      <td>0.109177</td>\n",
       "      <td>True</td>\n",
       "    </tr>\n",
       "    <tr>\n",
       "      <th>116</th>\n",
       "      <td>14</td>\n",
       "      <td>116</td>\n",
       "      <td>May-04-2021</td>\n",
       "      <td>Judge orders release of secret DOJ memo used t...</td>\n",
       "      <td>Roseanne Barr</td>\n",
       "      <td>Roseanne Cherrie Barr (born November 3, 1952) ...</td>\n",
       "      <td>0</td>\n",
       "      <td>roseanne cherrie barr (born november 3, 1952) ...</td>\n",
       "      <td>judge orders release secret doj memo used clea...</td>\n",
       "      <td>0.215181</td>\n",
       "      <td>0.139030</td>\n",
       "      <td>True</td>\n",
       "    </tr>\n",
       "  </tbody>\n",
       "</table>\n",
       "</div>"
      ],
      "text/plain": [
       "     news_id  wiki_id         date  \\\n",
       "2          0        2  May-04-2021   \n",
       "7          0        7  May-04-2021   \n",
       "73         8       73  May-04-2021   \n",
       "110       12      110  May-04-2021   \n",
       "116       14      116  May-04-2021   \n",
       "\n",
       "                                                  news  \\\n",
       "2    Market Rally Split Again; Yellen Tries To Walk...   \n",
       "7    Market Rally Split Again; Yellen Tries To Walk...   \n",
       "73   Derek Chauvin files motion for new trial in Ge...   \n",
       "110  Anger mounts as death toll from Mexico metro o...   \n",
       "116  Judge orders release of secret DOJ memo used t...   \n",
       "\n",
       "                      title  \\\n",
       "2                     Apple   \n",
       "7              Janet Yellen   \n",
       "73   Trial of Derek Chauvin   \n",
       "110        Anger management   \n",
       "116           Roseanne Barr   \n",
       "\n",
       "                                                  wiki  label  \\\n",
       "2    An apple is an edible fruit produced by an app...      0   \n",
       "7    Janet Louise Yellen (born August 13, 1946) is ...      1   \n",
       "73   State of Minnesota v. Derek Michael Chauvin is...      1   \n",
       "110  Anger management is a psycho-therapeutic progr...      0   \n",
       "116  Roseanne Cherrie Barr (born November 3, 1952) ...      0   \n",
       "\n",
       "                                          wiki_process  \\\n",
       "2    apple edible fruit produced apple tree (malus ...   \n",
       "7    janet louise yellen (born august 13, 1946) ame...   \n",
       "73   state minnesota v. derek michael chauvin crimi...   \n",
       "110  anger management psycho-therapeutic program an...   \n",
       "116  roseanne cherrie barr (born november 3, 1952) ...   \n",
       "\n",
       "                                          news_process   cos_sim    sm_sim  \\\n",
       "2    market rally split again; yellen tries walk ba...  0.063492  0.115635   \n",
       "7    market rally split again; yellen tries walk ba...  0.131165  0.108108   \n",
       "73   derek chauvin files motion new trial george fl...  0.406180  0.100376   \n",
       "110  anger mounts death toll mexico metro overpass ...  0.214665  0.109177   \n",
       "116  judge orders release secret doj memo used clea...  0.215181  0.139030   \n",
       "\n",
       "     predict  \n",
       "2       True  \n",
       "7       True  \n",
       "73      True  \n",
       "110     True  \n",
       "116     True  "
      ]
     },
     "execution_count": 22,
     "metadata": {},
     "output_type": "execute_result"
    }
   ],
   "source": [
    "labeled.drop_duplicates(['news_id', 'title']).loc[labeled['predict']].head()"
   ]
  },
  {
   "cell_type": "code",
   "execution_count": null,
   "metadata": {},
   "outputs": [],
   "source": []
  },
  {
   "cell_type": "code",
   "execution_count": null,
   "metadata": {},
   "outputs": [],
   "source": []
  }
 ],
 "metadata": {
  "kernelspec": {
   "display_name": "wikinews",
   "language": "python",
   "name": "wikinews"
  },
  "language_info": {
   "codemirror_mode": {
    "name": "ipython",
    "version": 3
   },
   "file_extension": ".py",
   "mimetype": "text/x-python",
   "name": "python",
   "nbconvert_exporter": "python",
   "pygments_lexer": "ipython3",
   "version": "3.9.4"
  },
  "varInspector": {
   "cols": {
    "lenName": 16,
    "lenType": 16,
    "lenVar": 40
   },
   "kernels_config": {
    "python": {
     "delete_cmd_postfix": "",
     "delete_cmd_prefix": "del ",
     "library": "var_list.py",
     "varRefreshCmd": "print(var_dic_list())"
    },
    "r": {
     "delete_cmd_postfix": ") ",
     "delete_cmd_prefix": "rm(",
     "library": "var_list.r",
     "varRefreshCmd": "cat(var_dic_list()) "
    }
   },
   "types_to_exclude": [
    "module",
    "function",
    "builtin_function_or_method",
    "instance",
    "_Feature"
   ],
   "window_display": false
  }
 },
 "nbformat": 4,
 "nbformat_minor": 4
}
