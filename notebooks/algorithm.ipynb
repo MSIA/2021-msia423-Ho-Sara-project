{
 "cells": [
  {
   "cell_type": "code",
   "execution_count": 73,
   "metadata": {},
   "outputs": [],
   "source": [
    "import pandas as pd\n",
    "import os"
   ]
  },
  {
   "cell_type": "markdown",
   "metadata": {},
   "source": [
    "# Generate Unlabeled Data"
   ]
  },
  {
   "cell_type": "code",
   "execution_count": 75,
   "metadata": {},
   "outputs": [],
   "source": [
    "datadir = '../../data'\n",
    "wikidf = []\n",
    "newsdf = []\n",
    "\n",
    "for file in os.listdir(datadir):\n",
    "    if 'wiki' in file: \n",
    "        df = pd.read_csv(datadir + '/' + file)[['news_id', 'title', 'wiki', 'entity']]\n",
    "        \n",
    "        # add date column\n",
    "        date = '-'.join(file.split('-')[0:3])\n",
    "        df['date'] = date\n",
    "        \n",
    "        # remove duplicates\n",
    "        df.drop_duplicates(['title', 'news_id', 'date'])\n",
    "        \n",
    "        # set index\n",
    "        df = df.reset_index()\n",
    "        df.rename(columns={'index': 'wiki_id'}, inplace=True)\n",
    "        wikidf.append(df)\n",
    "    elif 'news' in file:\n",
    "        df = pd.read_csv(datadir + '/' + file)[['news_id', 'news']]\n",
    "        date = '-'.join(file.split('-')[0:3])\n",
    "        df['date'] = date\n",
    "        newsdf.append(df)\n",
    "        \n",
    "data = pd.concat(wikidf).merge(pd.concat(newsdf))\n",
    "data = data[['news_id', 'wiki_id', 'date', 'news', 'entity', 'title', 'wiki']]\n",
    "data = data.sort_values(['date', 'news_id', 'wiki_id'])\n",
    "data.to_csv('unlabeled_data.csv', index=False)"
   ]
  },
  {
   "cell_type": "markdown",
   "metadata": {},
   "source": [
    "# Evaluate Labeled Data\n",
    "\n",
    "(373)"
   ]
  },
  {
   "cell_type": "code",
   "execution_count": 124,
   "metadata": {},
   "outputs": [],
   "source": [
    "labeled_data = pd.read_csv('labeled_data.csv')\n",
    "labeled_data = labeled_data.dropna()"
   ]
  },
  {
   "cell_type": "code",
   "execution_count": 125,
   "metadata": {},
   "outputs": [],
   "source": [
    "import nltk\n",
    "# nltk.download('stopwords')\n",
    "from nltk.corpus import stopwords\n",
    "\n",
    "stop_words = stopwords.words('english')\n",
    "stop_words.extend(['from', 'subject', 're', 'edu', 'use'])\n",
    "\n",
    "from difflib import SequenceMatcher\n",
    "\n",
    "def sim_sm(x):\n",
    "    return SequenceMatcher(None, x[0], x[1]).ratio()\n",
    "\n",
    "def lev_sim(a, b):\n",
    "    return distance(None, a, b).ratio()"
   ]
  },
  {
   "cell_type": "code",
   "execution_count": 126,
   "metadata": {},
   "outputs": [],
   "source": [
    "labeled_data['wiki'] = labeled_data['wiki'].str.lower().str.split()\n",
    "labeled_data['news'] = labeled_data['news'].str.lower().str.split()\n",
    "labeled_data['wiki'] = labeled_data['wiki'].apply(lambda x: ' '.join([item for item in x if item not in stop_words]))\n",
    "labeled_data['news'] = labeled_data['news'].apply(lambda x: ' '.join([item for item in x if item not in stop_words]))"
   ]
  },
  {
   "cell_type": "code",
   "execution_count": 79,
   "metadata": {},
   "outputs": [],
   "source": [
    "from scipy import stats\n"
   ]
  },
  {
   "cell_type": "code",
   "execution_count": 80,
   "metadata": {},
   "outputs": [],
   "source": [
    "import math\n",
    "import re\n",
    "from collections import Counter\n",
    "\n",
    "WORD = re.compile(r\"\\w+\")\n",
    "\n",
    "\n",
    "def get_cosine(vec1, vec2):\n",
    "    intersection = set(vec1.keys()) & set(vec2.keys())\n",
    "    numerator = sum([vec1[x] * vec2[x] for x in intersection])\n",
    "\n",
    "    sum1 = sum([vec1[x] ** 2 for x in list(vec1.keys())])\n",
    "    sum2 = sum([vec2[x] ** 2 for x in list(vec2.keys())])\n",
    "    denominator = math.sqrt(sum1) * math.sqrt(sum2)\n",
    "\n",
    "    if not denominator:\n",
    "        return 0.0\n",
    "    else:\n",
    "        return float(numerator) / denominator\n",
    "\n",
    "\n",
    "def text_to_vector(text):\n",
    "    words = WORD.findall(text)\n",
    "    return Counter(words)\n",
    "\n",
    "\n",
    "def cos_pipeline(x):\n",
    "    vector1 = text_to_vector(x[0])\n",
    "    vector2 = text_to_vector(x[1])\n",
    "\n",
    "    return get_cosine(vector1, vector2)\n",
    "\n",
    "def sp_pipeline(x):\n",
    "    vector1 = text_to_vector(x[0])\n",
    "    vector2 = text_to_vector(x[1])\n",
    "    print(vector1)\n",
    "    print(stats.spearmanr(vector1, vector2))"
   ]
  },
  {
   "cell_type": "code",
   "execution_count": 18,
   "metadata": {},
   "outputs": [],
   "source": [
    "# !python -m spacy download en_core_web_lg"
   ]
  },
  {
   "cell_type": "code",
   "execution_count": 19,
   "metadata": {},
   "outputs": [],
   "source": [
    "import spacy\n",
    "from spacy import displacy\n",
    "\n",
    "nlp = spacy.load(\"en_core_web_sm\")\n",
    "\n",
    "def render_spacy(text):\n",
    "    doc = nlp(text)\n",
    "    return displacy.render(doc, style=\"ent\", jupyter=False)\n"
   ]
  },
  {
   "cell_type": "code",
   "execution_count": 145,
   "metadata": {},
   "outputs": [],
   "source": [
    "from pathlib import Path\n"
   ]
  },
  {
   "cell_type": "code",
   "execution_count": 150,
   "metadata": {
    "scrolled": true
   },
   "outputs": [
    {
     "name": "stdout",
     "output_type": "stream",
     "text": [
      "(Yellen Tries To Walk Back Rate Hike Warning, Apple, Treasury, Janet Yellen, Fed)\n"
     ]
    },
    {
     "data": {
      "text/plain": [
       "1736"
      ]
     },
     "execution_count": 150,
     "metadata": {},
     "output_type": "execute_result"
    }
   ],
   "source": [
    "doc = nlp(documentA)\n",
    "print(doc.ents)\n",
    "svg = displacy.render(doc, style=\"ent\", jupyter=False)\n",
    "output_path = Path(\"test.svg\")\n",
    "output_path.open(\"w\", encoding=\"utf-8\").write(svg)\n"
   ]
  },
  {
   "cell_type": "code",
   "execution_count": 151,
   "metadata": {},
   "outputs": [
    {
     "data": {
      "text/plain": [
       "'<div class=\"entities\" style=\"line-height: 2.5; direction: ltr\">Market Rally Split Again; \\n<mark class=\"entity\" style=\"background: #aa9cfc; padding: 0.45em 0.6em; margin: 0 0.25em; line-height: 1; border-radius: 0.35em;\">\\n    Yellen Tries To Walk Back Rate Hike Warning\\n    <span style=\"font-size: 0.8em; font-weight: bold; line-height: 1; border-radius: 0.35em; vertical-align: middle; margin-left: 0.5rem\">PERSON</span>\\n</mark>\\n - The market rally is split again as \\n<mark class=\"entity\" style=\"background: #7aecec; padding: 0.45em 0.6em; margin: 0 0.25em; line-height: 1; border-radius: 0.35em;\">\\n    Apple\\n    <span style=\"font-size: 0.8em; font-weight: bold; line-height: 1; border-radius: 0.35em; vertical-align: middle; margin-left: 0.5rem\">ORG</span>\\n</mark>\\n led a tech sell-off. \\n<mark class=\"entity\" style=\"background: #7aecec; padding: 0.45em 0.6em; margin: 0 0.25em; line-height: 1; border-radius: 0.35em;\">\\n    Treasury\\n    <span style=\"font-size: 0.8em; font-weight: bold; line-height: 1; border-radius: 0.35em; vertical-align: middle; margin-left: 0.5rem\">ORG</span>\\n</mark>\\n Secretary \\n<mark class=\"entity\" style=\"background: #aa9cfc; padding: 0.45em 0.6em; margin: 0 0.25em; line-height: 1; border-radius: 0.35em;\">\\n    Janet Yellen\\n    <span style=\"font-size: 0.8em; font-weight: bold; line-height: 1; border-radius: 0.35em; vertical-align: middle; margin-left: 0.5rem\">PERSON</span>\\n</mark>\\n hinted at \\n<mark class=\"entity\" style=\"background: #7aecec; padding: 0.45em 0.6em; margin: 0 0.25em; line-height: 1; border-radius: 0.35em;\">\\n    Fed\\n    <span style=\"font-size: 0.8em; font-weight: bold; line-height: 1; border-radius: 0.35em; vertical-align: middle; margin-left: 0.5rem\">ORG</span>\\n</mark>\\n rate hikes.</div>'"
      ]
     },
     "execution_count": 151,
     "metadata": {},
     "output_type": "execute_result"
    }
   ],
   "source": [
    "svg"
   ]
  },
  {
   "cell_type": "code",
   "execution_count": 82,
   "metadata": {},
   "outputs": [],
   "source": [
    "def news2entities(news):\n",
    "    \"\"\" Use space to convert a news description into lists of entities and labels \"\"\"\n",
    "\n",
    "    nlp = spacy.load(\"en_core_web_sm\")\n",
    "    doc = nlp(news)\n",
    "\n",
    "    entities = []\n",
    "    for ent in doc.ents:\n",
    "        if (ent.label_ in ['PERSON', 'FAC', 'ORG', 'NORP', 'PRODUCT']) and (ent.text not in entities):\n",
    "            text = ent.text\n",
    "            if (ent.label_ == 'ORG'):\n",
    "                text += ' (organization)'\n",
    "            entities.append(text)\n",
    "\n",
    "    return entities\n"
   ]
  },
  {
   "cell_type": "code",
   "execution_count": 63,
   "metadata": {},
   "outputs": [],
   "source": [
    "def wiki_query(query, timeout=300):\n",
    "    \"\"\" Given a search query, returns suggested Wikipedia pages\n",
    "\n",
    "    Args:\n",
    "        query: `str` word or phrase to search for\n",
    "        timeout: `int` timeout after default 300 seconds\n",
    "\n",
    "    Returns:\n",
    "        object: `JSON` formatted data\n",
    "    \"\"\"\n",
    "    S = requests.Session()\n",
    "    URL = \"https://en.wikipedia.org/w/api.php\"\n",
    "\n",
    "    PARAMS = {'action': 'query',\n",
    "              'format': 'json',\n",
    "              'list': 'search',\n",
    "              'srsearch': query}\n",
    "\n",
    "    try:\n",
    "        R = S.get(url=URL, params=PARAMS, timeout=timeout)\n",
    "        return R.json()\n",
    "\n",
    "    except requests.ConnectionError as e:\n",
    "        logger.error(\"Connection Error. Make sure you are connected to Internet.\")\n",
    "        raise Exception()\n",
    "\n",
    "    except urllib3.exceptions.ReadTimeoutError as e:\n",
    "        logger.warning(\"Timeout Error after %i seconds\", timeout)\n",
    "    except requests.exceptions.ReadTimeout as e:\n",
    "        logger.warning(\"Timeout Error after %i seconds\", timeout)\n",
    "    except timeout as e:\n",
    "        logger.warning(\"Timeout Error after %i seconds\", timeout)\n",
    "\n",
    "    except requests.RequestException as e:\n",
    "        logger.error(\"General Error: %s\", str(e))\n",
    "        raise Exception()\n"
   ]
  },
  {
   "cell_type": "code",
   "execution_count": 64,
   "metadata": {},
   "outputs": [
    {
     "name": "stdout",
     "output_type": "stream",
     "text": [
      "QUERY: Texas Legislature (organization)\n",
      "Governor of Texas\n",
      "Abortion in Texas\n",
      "LGBT rights in Texas\n",
      "QUERY: Republican\n",
      "Republican\n",
      "Republican Party (United States)\n",
      "Irish Republican Army\n",
      "QUERY: House (organization)\n",
      "United States House Rules Subcommittee on Rules and the Organization of the House\n",
      "Homemaking\n",
      "Intergovernmental organization\n",
      "QUERY: Senate (organization)\n",
      "Senate Democratic Caucus\n",
      "Senate of the Philippines\n",
      "Senate\n"
     ]
    }
   ],
   "source": [
    "import requests\n",
    "documentA = 'Texas Legislature close to adding new restrictions to voting process -   Texas Republican lawmakers moved closer Saturday to imposing a slew of new restrictions on voting, as key House and Senate members struck a deal on legislation that would make mail-in voting more difficult and prohibit the after-hours and drive-through option‚Ä¶'\n",
    "entities = news2entities(documentA)\n",
    "for ent in entities:\n",
    "    print(f'QUERY: {ent}')\n",
    "    articledata = wiki_query(ent)\n",
    "    search_results = articledata['query']['search']\n",
    "    for i in [0, 1, 2]:\n",
    "        print(search_results[i]['title'])"
   ]
  },
  {
   "cell_type": "code",
   "execution_count": 68,
   "metadata": {},
   "outputs": [],
   "source": [
    "# def tdidf(x):\n",
    "#     vectorizer = TfidfVectorizer()\n",
    "#     vectors = vectorizer.fit_transform([x[0], x[1]])\n",
    "#     feature_names = vectorizer.get_feature_names()\n",
    "#     dense = vectors.todense()\n",
    "#     denselist = dense.tolist()\n",
    "#     df = pd.DataFrame(denselist, columns=feature_names)\n",
    "\n",
    "#     df = df.transpose()\n",
    "#     df['product'] = df[0] * df[1]\n",
    "#     return df.loc[df['product'] != 0].sort_values(1, ascending=False)"
   ]
  },
  {
   "cell_type": "code",
   "execution_count": 83,
   "metadata": {},
   "outputs": [],
   "source": [
    "# labeled_data['tdidf'] = labeled_data[['wiki', 'news']].apply(tdidf, axis=1)"
   ]
  },
  {
   "cell_type": "code",
   "execution_count": 84,
   "metadata": {
    "scrolled": true
   },
   "outputs": [
    {
     "data": {
      "text/plain": [
       "<AxesSubplot:>"
      ]
     },
     "execution_count": 84,
     "metadata": {},
     "output_type": "execute_result"
    },
    {
     "data": {
      "image/png": "[encoded data removed]",
      "text/plain": [
       "<Figure size 432x288 with 1 Axes>"
      ]
     },
     "metadata": {
      "needs_background": "light"
     },
     "output_type": "display_data"
    }
   ],
   "source": [
    "labeled_data['cos_sim'] = labeled_data[['wiki', 'news']].apply(cos_pipeline, axis=1)\n",
    "labeled_data['cos_sim'].hist()"
   ]
  },
  {
   "cell_type": "code",
   "execution_count": 129,
   "metadata": {},
   "outputs": [
    {
     "data": {
      "text/plain": [
       "<AxesSubplot:>"
      ]
     },
     "execution_count": 129,
     "metadata": {},
     "output_type": "execute_result"
    },
    {
     "data": {
      "image/png": "[encoded data removed]",
      "text/plain": [
       "<Figure size 432x288 with 1 Axes>"
      ]
     },
     "metadata": {
      "needs_background": "light"
     },
     "output_type": "display_data"
    }
   ],
   "source": [
    "labeled_data['sm_sim'] = labeled_data[['wiki', 'news']].apply(sim_sm, axis=1)\n",
    "labeled_data['sm_sim'].hist()"
   ]
  },
  {
   "cell_type": "code",
   "execution_count": 160,
   "metadata": {},
   "outputs": [
    {
     "data": {
      "text/plain": [
       "30"
      ]
     },
     "execution_count": 160,
     "metadata": {},
     "output_type": "execute_result"
    }
   ],
   "source": [
    "def render_text(text, entities):\n",
    "    entity_locs = []\n",
    "    for ent in entities:\n",
    "        start = text.find(ent)\n",
    "        end = start + len(ent)\n",
    "        entity_locs.append({'start': start, 'end': end, 'label': 'custom'})\n",
    "\n",
    "    colors = {\"custom\": \"linear-gradient(90deg, #aa9cfc, #fc9ce7)\"}\n",
    "    options = {\"ents\": [\"custom\"], \"colors\": colors}\n",
    "\n",
    "    doc = [{\"text\": text,\n",
    "            \"ents\": [{\"start\": 4, \"end\": 10, \"label\": \"custom\"}],\n",
    "            \"title\": None}]\n",
    "    return displacy.render(doc, style=\"ent\", jupyter=False, manual=True)\n",
    "\n",
    "\n",
    "def apply_render(df):\n",
    "\n",
    "    temp_dict = df.groupby(['news'])['entity'].apply(list).to_dict()\n",
    "    return [render_text(k, temp_dict[k]) for k in temp_dict]\n",
    "\n",
    "\n",
    "len(apply_render(labeled_data))\n",
    "# df['news'].nunique()"
   ]
  },
  {
   "cell_type": "code",
   "execution_count": 173,
   "metadata": {},
   "outputs": [
    {
     "data": {
      "text/html": [
       "<span class=\"tex2jax_ignore\"><div class=\"entities\" style=\"line-height: 2.5; direction: ltr\">\n",
       "<mark class=\"entity\" style=\"background: linear-gradient(90deg, #aa9cfc, #fc9ce7); padding: 0.45em 0.6em; margin: 0 0.25em; line-height: 1; border-radius: 0.35em;\">\n",
       "    Naomi Osaka\n",
       "    <span style=\"font-size: 0.8em; font-weight: bold; line-height: 1; border-radius: 0.35em; vertical-align: middle; margin-left: 0.5rem\"></span>\n",
       "</mark>\n",
       " faces French Open expulsion after media boycott - Japanese tennis player fined $15,000 for skipping the news conference after her first-round victory</div></span>"
      ],
      "text/plain": [
       "<IPython.core.display.HTML object>"
      ]
     },
     "metadata": {},
     "output_type": "display_data"
    }
   ],
   "source": [
    "def render_text(text, entities):\n",
    "    entity_locs = []\n",
    "    for ent in entities:\n",
    "        if '(organization)' in ent:\n",
    "            ent.replace('(organization)', '')\n",
    "\n",
    "        start = text.find(ent)\n",
    "        end = start + len(ent)\n",
    "        entity_locs.append({'start': start, 'end': end, 'label': ''})\n",
    "\n",
    "    colors = {\"\": \"linear-gradient(90deg, #aa9cfc, #fc9ce7)\"}\n",
    "    options = {\"ents\": [\"\"], \"colors\": colors}\n",
    "\n",
    "    doc = [{\"text\": text,\n",
    "            \"ents\": entity_locs,\n",
    "            \"title\": None}]\n",
    "    displacy.render(doc, style=\"ent\", manual=True, options=options)\n",
    "\n",
    "text = \"\"\"Naomi Osaka faces French Open expulsion after media boycott - Japanese tennis player fined $15,000 for skipping the news conference after her first-round victory\"\"\"\n",
    "render_text(text, ['Naomi Osaka'])"
   ]
  },
  {
   "cell_type": "code",
   "execution_count": 134,
   "metadata": {
    "scrolled": true
   },
   "outputs": [
    {
     "data": {
      "image/png": "[encoded data removed]",
      "text/plain": [
       "<Figure size 432x288 with 1 Axes>"
      ]
     },
     "metadata": {
      "needs_background": "light"
     },
     "output_type": "display_data"
    }
   ],
   "source": [
    "#Confusion matrix, Accuracy, sensitivity and specificity\n",
    "from sklearn.metrics import confusion_matrix, f1_score, roc_auc_score\n",
    "import matplotlib.pyplot as plt\n",
    "\n",
    "sensitivities = []\n",
    "specificities = []\n",
    "f1s = []\n",
    "aucs = []\n",
    "accuracies = []\n",
    "\n",
    "cutoffs = np.arange(0.01, 0.3, 0.01)\n",
    "for cutoff in cutoffs:\n",
    "\n",
    "    labeled_data['predict'] = labeled_data['sm_sim'] > cutoff\n",
    "    labeled_data['predict'] = labeled_data['predict'].astype(int)\n",
    "\n",
    "    cm1 = confusion_matrix(labeled_data['label'], labeled_data['predict'])\n",
    "    total1=sum(sum(cm1))\n",
    "\n",
    "    ### from confusion matrix calculate accuracy\n",
    "    accuracy1=(cm1[0,0]+cm1[1,1])/total1\n",
    "    accuracies.append(accuracy1)\n",
    "    \n",
    "    # true positives\n",
    "    sensitivity1 = cm1[0,0]/(cm1[0,0] + cm1[0,1])\n",
    "    sensitivities.append(sensitivity1)\n",
    "\n",
    "    # true negatives\n",
    "    specificity1 = cm1[1,1]/(cm1[1,0] + cm1[1,1])\n",
    "    specificities.append(specificity1)\n",
    "\n",
    "    auc = roc_auc_score(labeled_data['label'], labeled_data['predict'])\n",
    "    aucs.append(auc)\n",
    "\n",
    "    f1s.append(f1_score(labeled_data['label'], labeled_data['predict']))\n",
    "    \n",
    "plt.plot(cutoffs, specificities)\n",
    "plt.plot(cutoffs, sensitivities)\n",
    "plt.plot(cutoffs, f1s)\n",
    "plt.show()"
   ]
  },
  {
   "cell_type": "code",
   "execution_count": 135,
   "metadata": {},
   "outputs": [
    {
     "name": "stdout",
     "output_type": "stream",
     "text": [
      "0.7543859649122807\n"
     ]
    },
    {
     "data": {
      "text/plain": [
       "0.02"
      ]
     },
     "execution_count": 135,
     "metadata": {},
     "output_type": "execute_result"
    }
   ],
   "source": [
    "print(np.max(f1s))\n",
    "maxpos = np.argmax(f1s)\n",
    "cutoffs[maxpos]"
   ]
  },
  {
   "cell_type": "code",
   "execution_count": 136,
   "metadata": {},
   "outputs": [],
   "source": [
    "labeled_data['predict'] = (labeled_data['sm_sim'] > 0.1)"
   ]
  },
  {
   "cell_type": "code",
   "execution_count": 137,
   "metadata": {
    "scrolled": true
   },
   "outputs": [
    {
     "data": {
      "text/plain": [
       "1    23\n",
       "0    11\n",
       "Name: label, dtype: int64"
      ]
     },
     "execution_count": 137,
     "metadata": {},
     "output_type": "execute_result"
    }
   ],
   "source": [
    "labeled_data.loc[labeled_data['predict']]['label'].value_counts()"
   ]
  },
  {
   "cell_type": "code",
   "execution_count": 138,
   "metadata": {},
   "outputs": [
    {
     "data": {
      "text/plain": [
       "False    40\n",
       "True     34\n",
       "Name: predict, dtype: int64"
      ]
     },
     "execution_count": 138,
     "metadata": {},
     "output_type": "execute_result"
    }
   ],
   "source": [
    "labeled_data['predict'].value_counts()"
   ]
  },
  {
   "cell_type": "code",
   "execution_count": 139,
   "metadata": {},
   "outputs": [
    {
     "data": {
      "text/plain": [
       "1    48\n",
       "0    26\n",
       "Name: label, dtype: int64"
      ]
     },
     "execution_count": 139,
     "metadata": {},
     "output_type": "execute_result"
    }
   ],
   "source": [
    "labeled_data['label'].value_counts()"
   ]
  },
  {
   "cell_type": "code",
   "execution_count": 140,
   "metadata": {},
   "outputs": [
    {
     "data": {
      "text/html": [
       "<div>\n",
       "<style scoped>\n",
       "    .dataframe tbody tr th:only-of-type {\n",
       "        vertical-align: middle;\n",
       "    }\n",
       "\n",
       "    .dataframe tbody tr th {\n",
       "        vertical-align: top;\n",
       "    }\n",
       "\n",
       "    .dataframe thead th {\n",
       "        text-align: right;\n",
       "    }\n",
       "</style>\n",
       "<table border=\"1\" class=\"dataframe\">\n",
       "  <thead>\n",
       "    <tr style=\"text-align: right;\">\n",
       "      <th></th>\n",
       "      <th>news_id</th>\n",
       "      <th>wiki_id</th>\n",
       "      <th>date</th>\n",
       "      <th>news</th>\n",
       "      <th>entity</th>\n",
       "      <th>title</th>\n",
       "      <th>wiki</th>\n",
       "      <th>label</th>\n",
       "      <th>sm_sim</th>\n",
       "      <th>predict</th>\n",
       "    </tr>\n",
       "  </thead>\n",
       "  <tbody>\n",
       "    <tr>\n",
       "      <th>3</th>\n",
       "      <td>1</td>\n",
       "      <td>3</td>\n",
       "      <td>May-29-2021</td>\n",
       "      <td>philadelphia 76ers vs washington wizards - ful...</td>\n",
       "      <td>Washington Wizards - Full Game 3 Highlights (o...</td>\n",
       "      <td>Washington Wizards</td>\n",
       "      <td>washington wizards american professional baske...</td>\n",
       "      <td>1</td>\n",
       "      <td>0.123566</td>\n",
       "      <td>True</td>\n",
       "    </tr>\n",
       "    <tr>\n",
       "      <th>5</th>\n",
       "      <td>3</td>\n",
       "      <td>5</td>\n",
       "      <td>May-29-2021</td>\n",
       "      <td>bodycam footage released stanislaus deputy sho...</td>\n",
       "      <td>Stanislaus (organization)</td>\n",
       "      <td>California State University, Stanislaus</td>\n",
       "      <td>california state university, stanislaus (stani...</td>\n",
       "      <td>0</td>\n",
       "      <td>0.159059</td>\n",
       "      <td>True</td>\n",
       "    </tr>\n",
       "    <tr>\n",
       "      <th>6</th>\n",
       "      <td>3</td>\n",
       "      <td>6</td>\n",
       "      <td>May-29-2021</td>\n",
       "      <td>bodycam footage released stanislaus deputy sho...</td>\n",
       "      <td>Xander Mann</td>\n",
       "      <td>Xander Berkeley</td>\n",
       "      <td>alexander harper \"xander\" berkeley (born decem...</td>\n",
       "      <td>0</td>\n",
       "      <td>0.174397</td>\n",
       "      <td>True</td>\n",
       "    </tr>\n",
       "    <tr>\n",
       "      <th>7</th>\n",
       "      <td>4</td>\n",
       "      <td>7</td>\n",
       "      <td>May-29-2021</td>\n",
       "      <td>b.j. thomas, grammy-winning singer 'raindrops ...</td>\n",
       "      <td>B.J. Thomas</td>\n",
       "      <td>B. J. Thomas</td>\n",
       "      <td>billy joe thomas (august 7, 1942 – may 29, 202...</td>\n",
       "      <td>1</td>\n",
       "      <td>0.135563</td>\n",
       "      <td>True</td>\n",
       "    </tr>\n",
       "    <tr>\n",
       "      <th>8</th>\n",
       "      <td>4</td>\n",
       "      <td>8</td>\n",
       "      <td>May-29-2021</td>\n",
       "      <td>b.j. thomas, grammy-winning singer 'raindrops ...</td>\n",
       "      <td>Grammy</td>\n",
       "      <td>Grammy Awards</td>\n",
       "      <td>grammy award (stylized grammy, originally call...</td>\n",
       "      <td>1</td>\n",
       "      <td>0.110533</td>\n",
       "      <td>True</td>\n",
       "    </tr>\n",
       "    <tr>\n",
       "      <th>9</th>\n",
       "      <td>4</td>\n",
       "      <td>9</td>\n",
       "      <td>May-29-2021</td>\n",
       "      <td>b.j. thomas, grammy-winning singer 'raindrops ...</td>\n",
       "      <td>Raindrops Keep Fallin' (organization)</td>\n",
       "      <td>Burt Bacharach</td>\n",
       "      <td>burt freeman bacharach ( bak-ə-rak; born may 1...</td>\n",
       "      <td>0</td>\n",
       "      <td>0.116471</td>\n",
       "      <td>True</td>\n",
       "    </tr>\n",
       "    <tr>\n",
       "      <th>10</th>\n",
       "      <td>4</td>\n",
       "      <td>10</td>\n",
       "      <td>May-29-2021</td>\n",
       "      <td>b.j. thomas, grammy-winning singer 'raindrops ...</td>\n",
       "      <td>My Head</td>\n",
       "      <td>My Head &amp; My Heart</td>\n",
       "      <td>\"my head &amp; heart\" song american singer ava max...</td>\n",
       "      <td>0</td>\n",
       "      <td>0.134868</td>\n",
       "      <td>True</td>\n",
       "    </tr>\n",
       "    <tr>\n",
       "      <th>11</th>\n",
       "      <td>4</td>\n",
       "      <td>11</td>\n",
       "      <td>May-29-2021</td>\n",
       "      <td>b.j. thomas, grammy-winning singer 'raindrops ...</td>\n",
       "      <td>the Grammy Hall of Fame</td>\n",
       "      <td>Grammy Hall of Fame</td>\n",
       "      <td>grammy hall fame hall fame honor musical recor...</td>\n",
       "      <td>1</td>\n",
       "      <td>0.119741</td>\n",
       "      <td>True</td>\n",
       "    </tr>\n",
       "    <tr>\n",
       "      <th>13</th>\n",
       "      <td>5</td>\n",
       "      <td>13</td>\n",
       "      <td>May-29-2021</td>\n",
       "      <td>trail blazers’ jusuf nurkic choice words kendr...</td>\n",
       "      <td>Trail Blazers (organization)</td>\n",
       "      <td>Portland Trail Blazers</td>\n",
       "      <td>portland trail blazers (colloquially known bla...</td>\n",
       "      <td>1</td>\n",
       "      <td>0.101695</td>\n",
       "      <td>True</td>\n",
       "    </tr>\n",
       "    <tr>\n",
       "      <th>18</th>\n",
       "      <td>7</td>\n",
       "      <td>18</td>\n",
       "      <td>May-29-2021</td>\n",
       "      <td>best buy memorial day 2021 sale: discounts tvs...</td>\n",
       "      <td>the Amazon Echo Auto (organization)</td>\n",
       "      <td>Amazon (company)</td>\n",
       "      <td>amazon.com, inc. ( am-ə-zon) american multinat...</td>\n",
       "      <td>0</td>\n",
       "      <td>0.121212</td>\n",
       "      <td>True</td>\n",
       "    </tr>\n",
       "    <tr>\n",
       "      <th>20</th>\n",
       "      <td>8</td>\n",
       "      <td>20</td>\n",
       "      <td>May-29-2021</td>\n",
       "      <td>boris johnson married stealth ceremony, report...</td>\n",
       "      <td>Boris Johnson Married</td>\n",
       "      <td>Boris Johnson</td>\n",
       "      <td>alexander boris de pfeffel johnson (; born 19 ...</td>\n",
       "      <td>1</td>\n",
       "      <td>0.182700</td>\n",
       "      <td>True</td>\n",
       "    </tr>\n",
       "    <tr>\n",
       "      <th>21</th>\n",
       "      <td>8</td>\n",
       "      <td>21</td>\n",
       "      <td>May-29-2021</td>\n",
       "      <td>boris johnson married stealth ceremony, report...</td>\n",
       "      <td>Reports Say - The</td>\n",
       "      <td>Say Say Say</td>\n",
       "      <td>\"say say say\" song written performed english m...</td>\n",
       "      <td>0</td>\n",
       "      <td>0.112483</td>\n",
       "      <td>True</td>\n",
       "    </tr>\n",
       "    <tr>\n",
       "      <th>24</th>\n",
       "      <td>9</td>\n",
       "      <td>24</td>\n",
       "      <td>May-29-2021</td>\n",
       "      <td>vice president kamala harris fire 'disrespectf...</td>\n",
       "      <td>Kamala Harris</td>\n",
       "      <td>Kamala Harris</td>\n",
       "      <td>kamala devi harris ( (listen) kah-mə-lə day-ve...</td>\n",
       "      <td>1</td>\n",
       "      <td>0.143240</td>\n",
       "      <td>True</td>\n",
       "    </tr>\n",
       "    <tr>\n",
       "      <th>25</th>\n",
       "      <td>9</td>\n",
       "      <td>25</td>\n",
       "      <td>May-29-2021</td>\n",
       "      <td>vice president kamala harris fire 'disrespectf...</td>\n",
       "      <td>Memorial Weekend</td>\n",
       "      <td>Memorial Day</td>\n",
       "      <td>memorial day (previously, seldom, called decor...</td>\n",
       "      <td>1</td>\n",
       "      <td>0.102151</td>\n",
       "      <td>True</td>\n",
       "    </tr>\n",
       "    <tr>\n",
       "      <th>26</th>\n",
       "      <td>10</td>\n",
       "      <td>26</td>\n",
       "      <td>May-29-2021</td>\n",
       "      <td>luka doncic injury update: mavericks star ques...</td>\n",
       "      <td>Luka Doncic</td>\n",
       "      <td>Luka Dončić</td>\n",
       "      <td>luka dončić (; slovene: [ˈlùːka ˈdòːntʃitʃ]; b...</td>\n",
       "      <td>1</td>\n",
       "      <td>0.107239</td>\n",
       "      <td>True</td>\n",
       "    </tr>\n",
       "    <tr>\n",
       "      <th>28</th>\n",
       "      <td>11</td>\n",
       "      <td>28</td>\n",
       "      <td>May-29-2021</td>\n",
       "      <td>thomas tuchel stays simple, pep guardiola over...</td>\n",
       "      <td>Thomas Tuchel</td>\n",
       "      <td>Thomas Tuchel</td>\n",
       "      <td>thomas tuchel (german pronunciation: [ˈtoːmas ...</td>\n",
       "      <td>1</td>\n",
       "      <td>0.105335</td>\n",
       "      <td>True</td>\n",
       "    </tr>\n",
       "    <tr>\n",
       "      <th>33</th>\n",
       "      <td>15</td>\n",
       "      <td>33</td>\n",
       "      <td>May-29-2021</td>\n",
       "      <td>study identifies antibody common cold infectio...</td>\n",
       "      <td>COVID-19</td>\n",
       "      <td>COVID-19</td>\n",
       "      <td>coronavirus disease 2019 (covid-19), also know...</td>\n",
       "      <td>1</td>\n",
       "      <td>0.114449</td>\n",
       "      <td>True</td>\n",
       "    </tr>\n",
       "    <tr>\n",
       "      <th>37</th>\n",
       "      <td>17</td>\n",
       "      <td>37</td>\n",
       "      <td>May-29-2021</td>\n",
       "      <td>gavin macleod, ‘mary tyler moore’ ‘love boat’ ...</td>\n",
       "      <td>Gavin MacLeod</td>\n",
       "      <td>Gavin MacLeod</td>\n",
       "      <td>gavin macleod (born allan george see; february...</td>\n",
       "      <td>1</td>\n",
       "      <td>0.134948</td>\n",
       "      <td>True</td>\n",
       "    </tr>\n",
       "    <tr>\n",
       "      <th>39</th>\n",
       "      <td>18</td>\n",
       "      <td>39</td>\n",
       "      <td>May-29-2021</td>\n",
       "      <td>nasa releases stunning image milky way's 'down...</td>\n",
       "      <td>NASA (organization)</td>\n",
       "      <td>List of administrators and deputy administrato...</td>\n",
       "      <td>administrator national aeronautics space admin...</td>\n",
       "      <td>0</td>\n",
       "      <td>0.102381</td>\n",
       "      <td>True</td>\n",
       "    </tr>\n",
       "    <tr>\n",
       "      <th>43</th>\n",
       "      <td>21</td>\n",
       "      <td>43</td>\n",
       "      <td>May-29-2021</td>\n",
       "      <td>witness tulsa massacre, family history forever...</td>\n",
       "      <td>the Tulsa Massacre (organization)</td>\n",
       "      <td>Greenwood District, Tulsa</td>\n",
       "      <td>greenwood historic freedom colony tulsa, oklah...</td>\n",
       "      <td>1</td>\n",
       "      <td>0.116490</td>\n",
       "      <td>True</td>\n",
       "    </tr>\n",
       "    <tr>\n",
       "      <th>44</th>\n",
       "      <td>21</td>\n",
       "      <td>44</td>\n",
       "      <td>May-29-2021</td>\n",
       "      <td>witness tulsa massacre, family history forever...</td>\n",
       "      <td>Mary E. Jones</td>\n",
       "      <td>Mother Jones</td>\n",
       "      <td>mary g. harris jones (1837 (baptized) – 30 nov...</td>\n",
       "      <td>0</td>\n",
       "      <td>0.100881</td>\n",
       "      <td>True</td>\n",
       "    </tr>\n",
       "    <tr>\n",
       "      <th>45</th>\n",
       "      <td>21</td>\n",
       "      <td>45</td>\n",
       "      <td>May-29-2021</td>\n",
       "      <td>witness tulsa massacre, family history forever...</td>\n",
       "      <td>the Tulsa Massacre</td>\n",
       "      <td>Tulsa race massacre</td>\n",
       "      <td>tulsa race massacre took place may 31 june 1, ...</td>\n",
       "      <td>1</td>\n",
       "      <td>0.103093</td>\n",
       "      <td>True</td>\n",
       "    </tr>\n",
       "    <tr>\n",
       "      <th>48</th>\n",
       "      <td>22</td>\n",
       "      <td>48</td>\n",
       "      <td>May-29-2021</td>\n",
       "      <td>belarus' lukashenko filmed 'bro-ing out' putin...</td>\n",
       "      <td>Lukashenko</td>\n",
       "      <td>Alexander Lukashenko</td>\n",
       "      <td>alexander grigoryevich lukashenko alyaksand(а)...</td>\n",
       "      <td>1</td>\n",
       "      <td>0.117394</td>\n",
       "      <td>True</td>\n",
       "    </tr>\n",
       "    <tr>\n",
       "      <th>49</th>\n",
       "      <td>23</td>\n",
       "      <td>49</td>\n",
       "      <td>May-29-2021</td>\n",
       "      <td>oregon reports 1 covid-19 related death, 376 n...</td>\n",
       "      <td>COVID-19</td>\n",
       "      <td>COVID-19</td>\n",
       "      <td>coronavirus disease 2019 (covid-19), also know...</td>\n",
       "      <td>1</td>\n",
       "      <td>0.133721</td>\n",
       "      <td>True</td>\n",
       "    </tr>\n",
       "    <tr>\n",
       "      <th>50</th>\n",
       "      <td>23</td>\n",
       "      <td>50</td>\n",
       "      <td>May-29-2021</td>\n",
       "      <td>oregon reports 1 covid-19 related death, 376 n...</td>\n",
       "      <td>the Oregon Health Authority (organization)</td>\n",
       "      <td>Oregon Health Authority</td>\n",
       "      <td>oregon health authority (oha) government agenc...</td>\n",
       "      <td>1</td>\n",
       "      <td>0.144044</td>\n",
       "      <td>True</td>\n",
       "    </tr>\n",
       "    <tr>\n",
       "      <th>52</th>\n",
       "      <td>24</td>\n",
       "      <td>52</td>\n",
       "      <td>May-29-2021</td>\n",
       "      <td>jay cutler 'fighting for' half kristin cavalla...</td>\n",
       "      <td>Kristin Cavallari's</td>\n",
       "      <td>Kristin Cavallari</td>\n",
       "      <td>kristin elizabeth cavallari (born january 5, 1...</td>\n",
       "      <td>1</td>\n",
       "      <td>0.158385</td>\n",
       "      <td>True</td>\n",
       "    </tr>\n",
       "    <tr>\n",
       "      <th>53</th>\n",
       "      <td>24</td>\n",
       "      <td>53</td>\n",
       "      <td>May-29-2021</td>\n",
       "      <td>jay cutler 'fighting for' half kristin cavalla...</td>\n",
       "      <td>James Brand</td>\n",
       "      <td>James Brand</td>\n",
       "      <td>james brand may refer to:</td>\n",
       "      <td>1</td>\n",
       "      <td>0.209424</td>\n",
       "      <td>True</td>\n",
       "    </tr>\n",
       "    <tr>\n",
       "      <th>60</th>\n",
       "      <td>27</td>\n",
       "      <td>60</td>\n",
       "      <td>May-29-2021</td>\n",
       "      <td>tens thousands brazilians march demand bolsona...</td>\n",
       "      <td>Bolsonaro’s (organization)</td>\n",
       "      <td>Jair Bolsonaro</td>\n",
       "      <td>jair messias bolsonaro (brazilian portuguese: ...</td>\n",
       "      <td>1</td>\n",
       "      <td>0.125912</td>\n",
       "      <td>True</td>\n",
       "    </tr>\n",
       "    <tr>\n",
       "      <th>61</th>\n",
       "      <td>27</td>\n",
       "      <td>61</td>\n",
       "      <td>May-29-2021</td>\n",
       "      <td>tens thousands brazilians march demand bolsona...</td>\n",
       "      <td>Protests</td>\n",
       "      <td>Protest</td>\n",
       "      <td>protest (also called demonstration, remonstrat...</td>\n",
       "      <td>0</td>\n",
       "      <td>0.104965</td>\n",
       "      <td>True</td>\n",
       "    </tr>\n",
       "    <tr>\n",
       "      <th>63</th>\n",
       "      <td>28</td>\n",
       "      <td>63</td>\n",
       "      <td>May-29-2021</td>\n",
       "      <td>illinois health officials announce 802 new cas...</td>\n",
       "      <td>The Illinois Department of Public Health (orga...</td>\n",
       "      <td>Illinois Department of Public Health</td>\n",
       "      <td>illinois department public health (idph) code ...</td>\n",
       "      <td>1</td>\n",
       "      <td>0.115385</td>\n",
       "      <td>True</td>\n",
       "    </tr>\n",
       "    <tr>\n",
       "      <th>65</th>\n",
       "      <td>33</td>\n",
       "      <td>65</td>\n",
       "      <td>May-29-2021</td>\n",
       "      <td>john krasinski spotted houston's edwards marqe...</td>\n",
       "      <td>John Krasinski</td>\n",
       "      <td>John Krasinski</td>\n",
       "      <td>john burke krasinski (; born october 20, 1979)...</td>\n",
       "      <td>1</td>\n",
       "      <td>0.104324</td>\n",
       "      <td>True</td>\n",
       "    </tr>\n",
       "  </tbody>\n",
       "</table>\n",
       "</div>"
      ],
      "text/plain": [
       "    news_id  wiki_id         date  \\\n",
       "3         1        3  May-29-2021   \n",
       "5         3        5  May-29-2021   \n",
       "6         3        6  May-29-2021   \n",
       "7         4        7  May-29-2021   \n",
       "8         4        8  May-29-2021   \n",
       "9         4        9  May-29-2021   \n",
       "10        4       10  May-29-2021   \n",
       "11        4       11  May-29-2021   \n",
       "13        5       13  May-29-2021   \n",
       "18        7       18  May-29-2021   \n",
       "20        8       20  May-29-2021   \n",
       "21        8       21  May-29-2021   \n",
       "24        9       24  May-29-2021   \n",
       "25        9       25  May-29-2021   \n",
       "26       10       26  May-29-2021   \n",
       "28       11       28  May-29-2021   \n",
       "33       15       33  May-29-2021   \n",
       "37       17       37  May-29-2021   \n",
       "39       18       39  May-29-2021   \n",
       "43       21       43  May-29-2021   \n",
       "44       21       44  May-29-2021   \n",
       "45       21       45  May-29-2021   \n",
       "48       22       48  May-29-2021   \n",
       "49       23       49  May-29-2021   \n",
       "50       23       50  May-29-2021   \n",
       "52       24       52  May-29-2021   \n",
       "53       24       53  May-29-2021   \n",
       "60       27       60  May-29-2021   \n",
       "61       27       61  May-29-2021   \n",
       "63       28       63  May-29-2021   \n",
       "65       33       65  May-29-2021   \n",
       "\n",
       "                                                 news  \\\n",
       "3   philadelphia 76ers vs washington wizards - ful...   \n",
       "5   bodycam footage released stanislaus deputy sho...   \n",
       "6   bodycam footage released stanislaus deputy sho...   \n",
       "7   b.j. thomas, grammy-winning singer 'raindrops ...   \n",
       "8   b.j. thomas, grammy-winning singer 'raindrops ...   \n",
       "9   b.j. thomas, grammy-winning singer 'raindrops ...   \n",
       "10  b.j. thomas, grammy-winning singer 'raindrops ...   \n",
       "11  b.j. thomas, grammy-winning singer 'raindrops ...   \n",
       "13  trail blazers’ jusuf nurkic choice words kendr...   \n",
       "18  best buy memorial day 2021 sale: discounts tvs...   \n",
       "20  boris johnson married stealth ceremony, report...   \n",
       "21  boris johnson married stealth ceremony, report...   \n",
       "24  vice president kamala harris fire 'disrespectf...   \n",
       "25  vice president kamala harris fire 'disrespectf...   \n",
       "26  luka doncic injury update: mavericks star ques...   \n",
       "28  thomas tuchel stays simple, pep guardiola over...   \n",
       "33  study identifies antibody common cold infectio...   \n",
       "37  gavin macleod, ‘mary tyler moore’ ‘love boat’ ...   \n",
       "39  nasa releases stunning image milky way's 'down...   \n",
       "43  witness tulsa massacre, family history forever...   \n",
       "44  witness tulsa massacre, family history forever...   \n",
       "45  witness tulsa massacre, family history forever...   \n",
       "48  belarus' lukashenko filmed 'bro-ing out' putin...   \n",
       "49  oregon reports 1 covid-19 related death, 376 n...   \n",
       "50  oregon reports 1 covid-19 related death, 376 n...   \n",
       "52  jay cutler 'fighting for' half kristin cavalla...   \n",
       "53  jay cutler 'fighting for' half kristin cavalla...   \n",
       "60  tens thousands brazilians march demand bolsona...   \n",
       "61  tens thousands brazilians march demand bolsona...   \n",
       "63  illinois health officials announce 802 new cas...   \n",
       "65  john krasinski spotted houston's edwards marqe...   \n",
       "\n",
       "                                               entity  \\\n",
       "3   Washington Wizards - Full Game 3 Highlights (o...   \n",
       "5                           Stanislaus (organization)   \n",
       "6                                         Xander Mann   \n",
       "7                                         B.J. Thomas   \n",
       "8                                              Grammy   \n",
       "9               Raindrops Keep Fallin' (organization)   \n",
       "10                                            My Head   \n",
       "11                            the Grammy Hall of Fame   \n",
       "13                       Trail Blazers (organization)   \n",
       "18                the Amazon Echo Auto (organization)   \n",
       "20                              Boris Johnson Married   \n",
       "21                                  Reports Say - The   \n",
       "24                                      Kamala Harris   \n",
       "25                                   Memorial Weekend   \n",
       "26                                        Luka Doncic   \n",
       "28                                      Thomas Tuchel   \n",
       "33                                           COVID-19   \n",
       "37                                      Gavin MacLeod   \n",
       "39                                NASA (organization)   \n",
       "43                  the Tulsa Massacre (organization)   \n",
       "44                                      Mary E. Jones   \n",
       "45                                 the Tulsa Massacre   \n",
       "48                                         Lukashenko   \n",
       "49                                           COVID-19   \n",
       "50         the Oregon Health Authority (organization)   \n",
       "52                                Kristin Cavallari's   \n",
       "53                                        James Brand   \n",
       "60                         Bolsonaro’s (organization)   \n",
       "61                                           Protests   \n",
       "63  The Illinois Department of Public Health (orga...   \n",
       "65                                     John Krasinski   \n",
       "\n",
       "                                                title  \\\n",
       "3                                  Washington Wizards   \n",
       "5             California State University, Stanislaus   \n",
       "6                                     Xander Berkeley   \n",
       "7                                        B. J. Thomas   \n",
       "8                                       Grammy Awards   \n",
       "9                                      Burt Bacharach   \n",
       "10                                 My Head & My Heart   \n",
       "11                                Grammy Hall of Fame   \n",
       "13                             Portland Trail Blazers   \n",
       "18                                   Amazon (company)   \n",
       "20                                      Boris Johnson   \n",
       "21                                        Say Say Say   \n",
       "24                                      Kamala Harris   \n",
       "25                                       Memorial Day   \n",
       "26                                        Luka Dončić   \n",
       "28                                      Thomas Tuchel   \n",
       "33                                           COVID-19   \n",
       "37                                      Gavin MacLeod   \n",
       "39  List of administrators and deputy administrato...   \n",
       "43                          Greenwood District, Tulsa   \n",
       "44                                       Mother Jones   \n",
       "45                                Tulsa race massacre   \n",
       "48                               Alexander Lukashenko   \n",
       "49                                           COVID-19   \n",
       "50                            Oregon Health Authority   \n",
       "52                                  Kristin Cavallari   \n",
       "53                                        James Brand   \n",
       "60                                     Jair Bolsonaro   \n",
       "61                                            Protest   \n",
       "63               Illinois Department of Public Health   \n",
       "65                                     John Krasinski   \n",
       "\n",
       "                                                 wiki  label    sm_sim  \\\n",
       "3   washington wizards american professional baske...      1  0.123566   \n",
       "5   california state university, stanislaus (stani...      0  0.159059   \n",
       "6   alexander harper \"xander\" berkeley (born decem...      0  0.174397   \n",
       "7   billy joe thomas (august 7, 1942 – may 29, 202...      1  0.135563   \n",
       "8   grammy award (stylized grammy, originally call...      1  0.110533   \n",
       "9   burt freeman bacharach ( bak-ə-rak; born may 1...      0  0.116471   \n",
       "10  \"my head & heart\" song american singer ava max...      0  0.134868   \n",
       "11  grammy hall fame hall fame honor musical recor...      1  0.119741   \n",
       "13  portland trail blazers (colloquially known bla...      1  0.101695   \n",
       "18  amazon.com, inc. ( am-ə-zon) american multinat...      0  0.121212   \n",
       "20  alexander boris de pfeffel johnson (; born 19 ...      1  0.182700   \n",
       "21  \"say say say\" song written performed english m...      0  0.112483   \n",
       "24  kamala devi harris ( (listen) kah-mə-lə day-ve...      1  0.143240   \n",
       "25  memorial day (previously, seldom, called decor...      1  0.102151   \n",
       "26  luka dončić (; slovene: [ˈlùːka ˈdòːntʃitʃ]; b...      1  0.107239   \n",
       "28  thomas tuchel (german pronunciation: [ˈtoːmas ...      1  0.105335   \n",
       "33  coronavirus disease 2019 (covid-19), also know...      1  0.114449   \n",
       "37  gavin macleod (born allan george see; february...      1  0.134948   \n",
       "39  administrator national aeronautics space admin...      0  0.102381   \n",
       "43  greenwood historic freedom colony tulsa, oklah...      1  0.116490   \n",
       "44  mary g. harris jones (1837 (baptized) – 30 nov...      0  0.100881   \n",
       "45  tulsa race massacre took place may 31 june 1, ...      1  0.103093   \n",
       "48  alexander grigoryevich lukashenko alyaksand(а)...      1  0.117394   \n",
       "49  coronavirus disease 2019 (covid-19), also know...      1  0.133721   \n",
       "50  oregon health authority (oha) government agenc...      1  0.144044   \n",
       "52  kristin elizabeth cavallari (born january 5, 1...      1  0.158385   \n",
       "53                          james brand may refer to:      1  0.209424   \n",
       "60  jair messias bolsonaro (brazilian portuguese: ...      1  0.125912   \n",
       "61  protest (also called demonstration, remonstrat...      0  0.104965   \n",
       "63  illinois department public health (idph) code ...      1  0.115385   \n",
       "65  john burke krasinski (; born october 20, 1979)...      1  0.104324   \n",
       "\n",
       "    predict  \n",
       "3      True  \n",
       "5      True  \n",
       "6      True  \n",
       "7      True  \n",
       "8      True  \n",
       "9      True  \n",
       "10     True  \n",
       "11     True  \n",
       "13     True  \n",
       "18     True  \n",
       "20     True  \n",
       "21     True  \n",
       "24     True  \n",
       "25     True  \n",
       "26     True  \n",
       "28     True  \n",
       "33     True  \n",
       "37     True  \n",
       "39     True  \n",
       "43     True  \n",
       "44     True  \n",
       "45     True  \n",
       "48     True  \n",
       "49     True  \n",
       "50     True  \n",
       "52     True  \n",
       "53     True  \n",
       "60     True  \n",
       "61     True  \n",
       "63     True  \n",
       "65     True  "
      ]
     },
     "execution_count": 140,
     "metadata": {},
     "output_type": "execute_result"
    }
   ],
   "source": [
    "labeled_data.drop_duplicates(['news_id', 'title']).loc[labeled_data['predict']]"
   ]
  },
  {
   "cell_type": "code",
   "execution_count": null,
   "metadata": {},
   "outputs": [],
   "source": []
  },
  {
   "cell_type": "code",
   "execution_count": null,
   "metadata": {},
   "outputs": [],
   "source": []
  }
 ],
 "metadata": {
  "kernelspec": {
   "display_name": "wikinews",
   "language": "python",
   "name": "wikinews"
  },
  "language_info": {
   "codemirror_mode": {
    "name": "ipython",
    "version": 3
   },
   "file_extension": ".py",
   "mimetype": "text/x-python",
   "name": "python",
   "nbconvert_exporter": "python",
   "pygments_lexer": "ipython3",
   "version": "3.9.4"
  },
  "varInspector": {
   "cols": {
    "lenName": 16,
    "lenType": 16,
    "lenVar": 40
   },
   "kernels_config": {
    "python": {
     "delete_cmd_postfix": "",
     "delete_cmd_prefix": "del ",
     "library": "var_list.py",
     "varRefreshCmd": "print(var_dic_list())"
    },
    "r": {
     "delete_cmd_postfix": ") ",
     "delete_cmd_prefix": "rm(",
     "library": "var_list.r",
     "varRefreshCmd": "cat(var_dic_list()) "
    }
   },
   "types_to_exclude": [
    "module",
    "function",
    "builtin_function_or_method",
    "instance",
    "_Feature"
   ],
   "window_display": false
  }
 },
 "nbformat": 4,
 "nbformat_minor": 4
}
